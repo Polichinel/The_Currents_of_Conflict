{
 "cells": [
  {
   "cell_type": "code",
   "execution_count": 1,
   "metadata": {},
   "outputs": [],
   "source": [
    "import pandas as pd\n",
    "import geopandas as gpd\n",
    "import pickle "
   ]
  },
  {
   "cell_type": "code",
   "execution_count": 2,
   "metadata": {},
   "outputs": [],
   "source": [
    "prio_grid = gpd.read_file('zip:///home/polichinel/Documents/Articles/conflict_prediction/data/PRIO/priogrid_shapefiles.zip')\n",
    "prio_coord = pd.DataFrame(prio_grid[['gid', 'xcoord', 'ycoord']].rename(columns={'gid': 'pg_id'}))\n",
    "\n",
    "file_name = \"/home/polichinel/Documents/Articles/conflict_prediction/data/PRIO/prio_coord.pkl\"\n",
    "output = open(file_name, 'wb')\n",
    "pickle.dump(prio_coord, output)\n",
    "output.close()"
   ]
  }
 ],
 "metadata": {
  "kernelspec": {
   "display_name": "Python 3",
   "language": "python",
   "name": "python3"
  },
  "language_info": {
   "codemirror_mode": {
    "name": "ipython",
    "version": 3
   },
   "file_extension": ".py",
   "mimetype": "text/x-python",
   "name": "python",
   "nbconvert_exporter": "python",
   "pygments_lexer": "ipython3",
   "version": "3.8.2"
  }
 },
 "nbformat": 4,
 "nbformat_minor": 4
}
