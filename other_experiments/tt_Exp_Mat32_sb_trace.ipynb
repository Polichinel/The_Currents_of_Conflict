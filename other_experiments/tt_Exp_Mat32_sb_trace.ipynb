{
 "metadata": {
  "language_info": {
   "codemirror_mode": {
    "name": "ipython",
    "version": 3
   },
   "file_extension": ".py",
   "mimetype": "text/x-python",
   "name": "python",
   "nbconvert_exporter": "python",
   "pygments_lexer": "ipython3",
   "version": "3.8.6-final"
  },
  "orig_nbformat": 2,
  "kernelspec": {
   "name": "python3",
   "display_name": "Python 3",
   "language": "python"
  }
 },
 "nbformat": 4,
 "nbformat_minor": 2,
 "cells": [
  {
   "cell_type": "code",
   "execution_count": 1,
   "metadata": {},
   "outputs": [],
   "source": [
    "import os\n",
    "import numpy as np\n",
    "import pandas as pd\n",
    "import matplotlib.pyplot as plt\n",
    "import seaborn as sns\n",
    "\n",
    "import pickle\n",
    "import time\n",
    "\n",
    "from IPython.display import clear_output\n",
    "\n",
    "from utils import get_views_coord\n",
    "from utils import test_val_train\n",
    "from utils import sample_conflict_timeline\n",
    "from utils import get_hyper_priors\n",
    "from utils import predict\n",
    "from utils import plot_predictions\n",
    "from utils import get_mse\n",
    "from utils import get_metrics\n",
    "\n",
    "import pymc3 as pm\n",
    "\n",
    "from sklearn.ensemble import RandomForestClassifier\n",
    "from sklearn.ensemble import AdaBoostClassifier\n",
    "from sklearn.linear_model import LogisticRegression\n",
    "from sklearn.metrics import mean_squared_error\n",
    "from sklearn import metrics"
   ]
  },
  {
   "cell_type": "code",
   "execution_count": 2,
   "metadata": {},
   "outputs": [],
   "source": [
    "#import theano\n",
    "#import warnings\n",
    "#warnings.filterwarnings(\"ignore\", category=UserWarning)\n",
    "\n",
    "# dict for the dfs/dicts holding the results\n",
    "two_trend_Matern32_dict = {}\n",
    "\n",
    "# minimum number of conf in timeslines used to est hyper parameters\n",
    "C_est = 32 #100\n",
    "\n",
    "# conflict type. Som might need lower c_est than 100 to work\n",
    "conf_type = 'ged_best_sb' #['ged_best_sb', 'ged_best_ns', 'ged_best_os', 'ged_best']\n",
    "\n",
    "# short term kernel\n",
    "s_kernel = 'Matern32' #['ExpQuad', 'RatQuad', 'Matern32'] #, 'Matern52']\n",
    "\n",
    "# Start timer\n",
    "start_time = time.time()"
   ]
  },
  {
   "cell_type": "code",
   "execution_count": 3,
   "metadata": {},
   "outputs": [
    {
     "output_type": "stream",
     "name": "stdout",
     "text": [
      "got df\n"
     ]
    }
   ],
   "source": [
    "\n",
    "# get df:\n",
    "#path = '/home/polichinel/Documents/Articles/conflict_prediction/data/ViEWS/'\n",
    "path = '/home/projects/ku_00017/data/generated/currents' \n",
    "file_name = 'ViEWS_coord.pkl'\n",
    "df = get_views_coord(path = path, file_name = file_name)\n",
    "\n",
    "print('got df')\n"
   ]
  },
  {
   "cell_type": "code",
   "execution_count": 4,
   "metadata": {},
   "outputs": [
    {
     "output_type": "stream",
     "name": "stdout",
     "text": [
      "Train from 1/1990 trough 12/2011 (264)\nVal from 1/2012 trough 12/2014 (36)\nTest time from 1/2015 trough 12/2017 (36)\n(Test=False, so test set not outputted)\n\n100_100_ged_best_sb_Matern32\n\n"
     ]
    }
   ],
   "source": [
    "# get train and validation id:\n",
    "train_id, val_id = test_val_train(df)\n",
    "\n",
    "print(f\"{C_est}_{conf_type}_ExoQuad_{s_kernel}\\n\")\n"
   ]
  },
  {
   "cell_type": "code",
   "execution_count": 5,
   "metadata": {},
   "outputs": [
    {
     "output_type": "stream",
     "name": "stdout",
     "text": [
      "Time-line 6/6 in the works (estimation)...\n"
     ]
    }
   ],
   "source": [
    "# Constuction the gps and getting the map\n",
    "hps = get_hyper_priors(plot = False)\n",
    "\n",
    "with pm.Model() as model:\n",
    "\n",
    "# short term trend/irregularities ---------------------------------\n",
    "\n",
    "    ℓ_s = pm.Gamma(\"ℓ_s\", alpha=hps['ℓ_alpha_s'] , beta=hps['ℓ_beta_s'])\n",
    "    η_s = pm.HalfCauchy(\"η_s\", beta=hps['η_beta_s'])\n",
    "\n",
    "    # mean func for short term trend\n",
    "    mean_s =  pm.gp.mean.Zero()\n",
    "\n",
    "    # cov function for short term trend\n",
    "    if s_kernel == 'ExpQuad': \n",
    "        cov_s = η_s ** 2 * pm.gp.cov.ExpQuad(1, ℓ_s) \n",
    "\n",
    "    elif s_kernel == 'Matern32': \n",
    "        cov_s = η_s ** 2 * pm.gp.cov.Matern32(1, ℓ_s) \n",
    "\n",
    "    elif s_kernel == 'Matern52': \n",
    "        cov_s = η_s ** 2 * pm.gp.cov.Matern32(1, ℓ_s) \n",
    "\n",
    "    elif s_kernel == 'RatQuad': \n",
    "\n",
    "        α_s = pm.Gamma(\"α_s\", alpha=hps['α_alpha_s'], beta=hps['α_beta_s']) \n",
    "        cov_s = η_s ** 2 * pm.gp.cov.RatQuad(1, ℓ_s, α_s) # this seems to help alot when you split the trends below\n",
    "\n",
    "    # GP short term trend \n",
    "    gp_s = pm.gp.Marginal(mean_func = mean_s, cov_func=cov_s)\n",
    "\n",
    "\n",
    "    # long term trend -------------------------------------------------\n",
    "    ℓ_l = pm.Gamma(\"ℓ_l\", alpha=hps['ℓ_alpha_l'] , beta=hps['ℓ_beta_l'])\n",
    "    η_l = pm.HalfCauchy(\"η_l\", beta=hps['η_beta_l'])\n",
    "                \n",
    "    # mean and kernal for long term trend\n",
    "    mean_l =  pm.gp.mean.Zero()\n",
    "    cov_l = η_l **2 * pm.gp.cov.ExpQuad(1, ℓ_l) # Cov func.\n",
    "                \n",
    "    # GP short term trend \n",
    "    gp_l = pm.gp.Marginal(mean_func = mean_l, cov_func=cov_l)\n",
    "\n",
    "    # noise (constant \"white noise\") -----------------------------------\n",
    "    σ = pm.HalfCauchy(\"σ\", beta=hps['σ_beta'])\n",
    "\n",
    "    # sample and split X,y ---------------------------------------------  \n",
    "    sample_pr_id = sample_conflict_timeline(conf_type = conf_type, df = df, train_id = train_id, test_id = val_id, C = C_est)\n",
    "\n",
    "    # Full GP ----------------------------------------------------------\n",
    "    gp = gp_s + gp_l\n",
    "\n",
    "    df_sorted = df.sort_values(['pg_id', 'month_id'])\n",
    "\n",
    "    # sample:\n",
    "    for i, j in enumerate(sample_pr_id):\n",
    "\n",
    "        print(f'Time-line {i+1}/{sample_pr_id.shape[0]} in the works (estimation)...') \n",
    "        clear_output(wait=True)\n",
    "\n",
    "        X = df_sorted[(df_sorted['id'].isin(train_id)) & (df_sorted['pg_id'] == j)]['month_id'].values[:,None]\n",
    "        y = np.log( df_sorted[(df_sorted['id'].isin(train_id)) & (df_sorted['pg_id'] == j)][conf_type] + 1).values\n",
    "\n",
    "        y_ = gp.marginal_likelihood(f'y_{i}', X=X, y=y, noise= σ)\n",
    "    \n"
   ]
  },
  {
   "cell_type": "code",
   "execution_count": 6,
   "metadata": {},
   "outputs": [
    {
     "output_type": "stream",
     "name": "stdout",
     "text": [
      "Starting trace:\n",
      "\n",
      "Auto-assigning NUTS sampler...\n",
      "Initializing NUTS using jitter+adapt_diag...\n",
      "Sequential sampling (2 chains in 1 job)\n",
      "NUTS: [σ, η_l, ℓ_l, η_s, ℓ_s]\n"
     ]
    },
    {
     "output_type": "display_data",
     "data": {
      "text/plain": "<IPython.core.display.HTML object>",
      "text/html": "\n    <div>\n        <style>\n            /* Turns off some styling */\n            progress {\n                /* gets rid of default border in Firefox and Opera. */\n                border: none;\n                /* Needs to be in here for Safari polyfill so background images work as expected. */\n                background-size: auto;\n            }\n            .progress-bar-interrupted, .progress-bar-interrupted::-webkit-progress-bar {\n                background: #F44336;\n            }\n        </style>\n      <progress value='0' class='' max='2000' style='width:300px; height:20px; vertical-align: middle;'></progress>\n      \n    </div>\n    "
     },
     "metadata": {}
    },
    {
     "output_type": "stream",
     "name": "stderr",
     "text": [
      "/home/polichinel/anaconda3/lib/python3.7/site-packages/numpy/core/fromnumeric.py:3335: RuntimeWarning: Mean of empty slice.\n",
      "  out=out, **kwargs)\n",
      "/home/polichinel/anaconda3/lib/python3.7/site-packages/numpy/core/_methods.py:161: RuntimeWarning: invalid value encountered in double_scalars\n",
      "  ret = ret.dtype.type(ret / rcount)\n",
      "Sampling 1 chain for 22 tune and 0 draw iterations (22 + 0 draws total) took 170 seconds.\n",
      "No posterior samples. Unable to run convergence checks\n"
     ]
    }
   ],
   "source": [
    "with model:\n",
    "    print('Starting trace:\\n')\n",
    "    trace = pm.sample(1000, chains=5, cores=20, return_inferencedata=True)"
   ]
  },
  {
   "cell_type": "code",
   "execution_count": 7,
   "metadata": {},
   "outputs": [
    {
     "output_type": "execute_result",
     "data": {
      "text/plain": [
       "Inference data with groups:\n",
       "\t> observed_data"
      ],
      "text/html": "\n            <div>\n              <div class='xr-header'>\n                <div class=\"xr-obj-type\">arviz.InferenceData</div>\n              </div>\n              <ul class=\"xr-sections group-sections\">\n              \n            <li class = \"xr-section-item\">\n                  <input id=\"idata_observed_data278d43af-94ad-41b4-9727-2abf57ce2129\" class=\"xr-section-summary-in\" type=\"checkbox\">\n                  <label for=\"idata_observed_data278d43af-94ad-41b4-9727-2abf57ce2129\" class = \"xr-section-summary\">observed_data</label>\n                  <div class=\"xr-section-inline-details\"></div>\n                  <div class=\"xr-section-details\">\n                      <ul id=\"xr-dataset-coord-list\" class=\"xr-var-list\">\n                          <div style=\"padding-left:2rem;\"><div><svg style=\"position: absolute; width: 0; height: 0; overflow: hidden\">\n<defs>\n<symbol id=\"icon-database\" viewBox=\"0 0 32 32\">\n<path d=\"M16 0c-8.837 0-16 2.239-16 5v4c0 2.761 7.163 5 16 5s16-2.239 16-5v-4c0-2.761-7.163-5-16-5z\"></path>\n<path d=\"M16 17c-8.837 0-16-2.239-16-5v6c0 2.761 7.163 5 16 5s16-2.239 16-5v-6c0 2.761-7.163 5-16 5z\"></path>\n<path d=\"M16 26c-8.837 0-16-2.239-16-5v6c0 2.761 7.163 5 16 5s16-2.239 16-5v-6c0 2.761-7.163 5-16 5z\"></path>\n</symbol>\n<symbol id=\"icon-file-text2\" viewBox=\"0 0 32 32\">\n<path d=\"M28.681 7.159c-0.694-0.947-1.662-2.053-2.724-3.116s-2.169-2.030-3.116-2.724c-1.612-1.182-2.393-1.319-2.841-1.319h-15.5c-1.378 0-2.5 1.121-2.5 2.5v27c0 1.378 1.122 2.5 2.5 2.5h23c1.378 0 2.5-1.122 2.5-2.5v-19.5c0-0.448-0.137-1.23-1.319-2.841zM24.543 5.457c0.959 0.959 1.712 1.825 2.268 2.543h-4.811v-4.811c0.718 0.556 1.584 1.309 2.543 2.268zM28 29.5c0 0.271-0.229 0.5-0.5 0.5h-23c-0.271 0-0.5-0.229-0.5-0.5v-27c0-0.271 0.229-0.5 0.5-0.5 0 0 15.499-0 15.5 0v7c0 0.552 0.448 1 1 1h7v19.5z\"></path>\n<path d=\"M23 26h-14c-0.552 0-1-0.448-1-1s0.448-1 1-1h14c0.552 0 1 0.448 1 1s-0.448 1-1 1z\"></path>\n<path d=\"M23 22h-14c-0.552 0-1-0.448-1-1s0.448-1 1-1h14c0.552 0 1 0.448 1 1s-0.448 1-1 1z\"></path>\n<path d=\"M23 18h-14c-0.552 0-1-0.448-1-1s0.448-1 1-1h14c0.552 0 1 0.448 1 1s-0.448 1-1 1z\"></path>\n</symbol>\n</defs>\n</svg>\n<style>/* CSS stylesheet for displaying xarray objects in jupyterlab.\n *\n */\n\n:root {\n  --xr-font-color0: var(--jp-content-font-color0, rgba(0, 0, 0, 1));\n  --xr-font-color2: var(--jp-content-font-color2, rgba(0, 0, 0, 0.54));\n  --xr-font-color3: var(--jp-content-font-color3, rgba(0, 0, 0, 0.38));\n  --xr-border-color: var(--jp-border-color2, #e0e0e0);\n  --xr-disabled-color: var(--jp-layout-color3, #bdbdbd);\n  --xr-background-color: var(--jp-layout-color0, white);\n  --xr-background-color-row-even: var(--jp-layout-color1, white);\n  --xr-background-color-row-odd: var(--jp-layout-color2, #eeeeee);\n}\n\nhtml[theme=dark],\nbody.vscode-dark {\n  --xr-font-color0: rgba(255, 255, 255, 1);\n  --xr-font-color2: rgba(255, 255, 255, 0.54);\n  --xr-font-color3: rgba(255, 255, 255, 0.38);\n  --xr-border-color: #1F1F1F;\n  --xr-disabled-color: #515151;\n  --xr-background-color: #111111;\n  --xr-background-color-row-even: #111111;\n  --xr-background-color-row-odd: #313131;\n}\n\n.xr-wrap {\n  display: block;\n  min-width: 300px;\n  max-width: 700px;\n}\n\n.xr-text-repr-fallback {\n  /* fallback to plain text repr when CSS is not injected (untrusted notebook) */\n  display: none;\n}\n\n.xr-header {\n  padding-top: 6px;\n  padding-bottom: 6px;\n  margin-bottom: 4px;\n  border-bottom: solid 1px var(--xr-border-color);\n}\n\n.xr-header > div,\n.xr-header > ul {\n  display: inline;\n  margin-top: 0;\n  margin-bottom: 0;\n}\n\n.xr-obj-type,\n.xr-array-name {\n  margin-left: 2px;\n  margin-right: 10px;\n}\n\n.xr-obj-type {\n  color: var(--xr-font-color2);\n}\n\n.xr-sections {\n  padding-left: 0 !important;\n  display: grid;\n  grid-template-columns: 150px auto auto 1fr 20px 20px;\n}\n\n.xr-section-item {\n  display: contents;\n}\n\n.xr-section-item input {\n  display: none;\n}\n\n.xr-section-item input + label {\n  color: var(--xr-disabled-color);\n}\n\n.xr-section-item input:enabled + label {\n  cursor: pointer;\n  color: var(--xr-font-color2);\n}\n\n.xr-section-item input:enabled + label:hover {\n  color: var(--xr-font-color0);\n}\n\n.xr-section-summary {\n  grid-column: 1;\n  color: var(--xr-font-color2);\n  font-weight: 500;\n}\n\n.xr-section-summary > span {\n  display: inline-block;\n  padding-left: 0.5em;\n}\n\n.xr-section-summary-in:disabled + label {\n  color: var(--xr-font-color2);\n}\n\n.xr-section-summary-in + label:before {\n  display: inline-block;\n  content: '►';\n  font-size: 11px;\n  width: 15px;\n  text-align: center;\n}\n\n.xr-section-summary-in:disabled + label:before {\n  color: var(--xr-disabled-color);\n}\n\n.xr-section-summary-in:checked + label:before {\n  content: '▼';\n}\n\n.xr-section-summary-in:checked + label > span {\n  display: none;\n}\n\n.xr-section-summary,\n.xr-section-inline-details {\n  padding-top: 4px;\n  padding-bottom: 4px;\n}\n\n.xr-section-inline-details {\n  grid-column: 2 / -1;\n}\n\n.xr-section-details {\n  display: none;\n  grid-column: 1 / -1;\n  margin-bottom: 5px;\n}\n\n.xr-section-summary-in:checked ~ .xr-section-details {\n  display: contents;\n}\n\n.xr-array-wrap {\n  grid-column: 1 / -1;\n  display: grid;\n  grid-template-columns: 20px auto;\n}\n\n.xr-array-wrap > label {\n  grid-column: 1;\n  vertical-align: top;\n}\n\n.xr-preview {\n  color: var(--xr-font-color3);\n}\n\n.xr-array-preview,\n.xr-array-data {\n  padding: 0 5px !important;\n  grid-column: 2;\n}\n\n.xr-array-data,\n.xr-array-in:checked ~ .xr-array-preview {\n  display: none;\n}\n\n.xr-array-in:checked ~ .xr-array-data,\n.xr-array-preview {\n  display: inline-block;\n}\n\n.xr-dim-list {\n  display: inline-block !important;\n  list-style: none;\n  padding: 0 !important;\n  margin: 0;\n}\n\n.xr-dim-list li {\n  display: inline-block;\n  padding: 0;\n  margin: 0;\n}\n\n.xr-dim-list:before {\n  content: '(';\n}\n\n.xr-dim-list:after {\n  content: ')';\n}\n\n.xr-dim-list li:not(:last-child):after {\n  content: ',';\n  padding-right: 5px;\n}\n\n.xr-has-index {\n  font-weight: bold;\n}\n\n.xr-var-list,\n.xr-var-item {\n  display: contents;\n}\n\n.xr-var-item > div,\n.xr-var-item label,\n.xr-var-item > .xr-var-name span {\n  background-color: var(--xr-background-color-row-even);\n  margin-bottom: 0;\n}\n\n.xr-var-item > .xr-var-name:hover span {\n  padding-right: 5px;\n}\n\n.xr-var-list > li:nth-child(odd) > div,\n.xr-var-list > li:nth-child(odd) > label,\n.xr-var-list > li:nth-child(odd) > .xr-var-name span {\n  background-color: var(--xr-background-color-row-odd);\n}\n\n.xr-var-name {\n  grid-column: 1;\n}\n\n.xr-var-dims {\n  grid-column: 2;\n}\n\n.xr-var-dtype {\n  grid-column: 3;\n  text-align: right;\n  color: var(--xr-font-color2);\n}\n\n.xr-var-preview {\n  grid-column: 4;\n}\n\n.xr-var-name,\n.xr-var-dims,\n.xr-var-dtype,\n.xr-preview,\n.xr-attrs dt {\n  white-space: nowrap;\n  overflow: hidden;\n  text-overflow: ellipsis;\n  padding-right: 10px;\n}\n\n.xr-var-name:hover,\n.xr-var-dims:hover,\n.xr-var-dtype:hover,\n.xr-attrs dt:hover {\n  overflow: visible;\n  width: auto;\n  z-index: 1;\n}\n\n.xr-var-attrs,\n.xr-var-data {\n  display: none;\n  background-color: var(--xr-background-color) !important;\n  padding-bottom: 5px !important;\n}\n\n.xr-var-attrs-in:checked ~ .xr-var-attrs,\n.xr-var-data-in:checked ~ .xr-var-data {\n  display: block;\n}\n\n.xr-var-data > table {\n  float: right;\n}\n\n.xr-var-name span,\n.xr-var-data,\n.xr-attrs {\n  padding-left: 25px !important;\n}\n\n.xr-attrs,\n.xr-var-attrs,\n.xr-var-data {\n  grid-column: 1 / -1;\n}\n\ndl.xr-attrs {\n  padding: 0;\n  margin: 0;\n  display: grid;\n  grid-template-columns: 125px auto;\n}\n\n.xr-attrs dt,\n.xr-attrs dd {\n  padding: 0;\n  margin: 0;\n  float: left;\n  padding-right: 10px;\n  width: auto;\n}\n\n.xr-attrs dt {\n  font-weight: normal;\n  grid-column: 1;\n}\n\n.xr-attrs dt:hover span {\n  display: inline-block;\n  background: var(--xr-background-color);\n  padding-right: 10px;\n}\n\n.xr-attrs dd {\n  grid-column: 2;\n  white-space: pre-wrap;\n  word-break: break-all;\n}\n\n.xr-icon-database,\n.xr-icon-file-text2 {\n  display: inline-block;\n  vertical-align: middle;\n  width: 1em;\n  height: 1.5em !important;\n  stroke-width: 0;\n  stroke: currentColor;\n  fill: currentColor;\n}\n</style><pre class='xr-text-repr-fallback'>&lt;xarray.Dataset&gt;\nDimensions:    (y_0_dim_0: 264, y_1_dim_0: 264, y_2_dim_0: 264, y_3_dim_0: 264, y_4_dim_0: 264, y_5_dim_0: 264)\nCoordinates:\n  * y_0_dim_0  (y_0_dim_0) int64 0 1 2 3 4 5 6 7 ... 257 258 259 260 261 262 263\n  * y_1_dim_0  (y_1_dim_0) int64 0 1 2 3 4 5 6 7 ... 257 258 259 260 261 262 263\n  * y_2_dim_0  (y_2_dim_0) int64 0 1 2 3 4 5 6 7 ... 257 258 259 260 261 262 263\n  * y_3_dim_0  (y_3_dim_0) int64 0 1 2 3 4 5 6 7 ... 257 258 259 260 261 262 263\n  * y_4_dim_0  (y_4_dim_0) int64 0 1 2 3 4 5 6 7 ... 257 258 259 260 261 262 263\n  * y_5_dim_0  (y_5_dim_0) int64 0 1 2 3 4 5 6 7 ... 257 258 259 260 261 262 263\nData variables:\n    y_0        (y_0_dim_0) float64 0.0 0.0 0.0 0.0 0.0 ... 0.0 2.773 0.0 0.0\n    y_1        (y_1_dim_0) float64 0.0 0.0 3.135 0.0 ... 2.303 5.142 4.489 3.466\n    y_2        (y_2_dim_0) float64 0.0 0.0 0.0 0.6931 ... 2.303 0.6931 0.0\n    y_3        (y_3_dim_0) float64 0.0 0.0 0.0 0.0 0.0 ... 0.0 1.386 0.0 0.0\n    y_4        (y_4_dim_0) float64 0.0 0.0 0.0 0.0 0.0 ... 2.639 1.386 0.0 1.386\n    y_5        (y_5_dim_0) float64 0.0 0.0 0.0 0.0 0.0 ... 0.6931 1.386 0.0 0.0\nAttributes:\n    created_at:                 2021-03-15T11:10:48.120166\n    arviz_version:              0.11.2\n    inference_library:          pymc3\n    inference_library_version:  3.11.1</pre><div class='xr-wrap' hidden><div class='xr-header'><div class='xr-obj-type'>xarray.Dataset</div></div><ul class='xr-sections'><li class='xr-section-item'><input id='section-30aa25b6-d035-4cf2-ba2a-98e04063de4b' class='xr-section-summary-in' type='checkbox' disabled ><label for='section-30aa25b6-d035-4cf2-ba2a-98e04063de4b' class='xr-section-summary'  title='Expand/collapse section'>Dimensions:</label><div class='xr-section-inline-details'><ul class='xr-dim-list'><li><span class='xr-has-index'>y_0_dim_0</span>: 264</li><li><span class='xr-has-index'>y_1_dim_0</span>: 264</li><li><span class='xr-has-index'>y_2_dim_0</span>: 264</li><li><span class='xr-has-index'>y_3_dim_0</span>: 264</li><li><span class='xr-has-index'>y_4_dim_0</span>: 264</li><li><span class='xr-has-index'>y_5_dim_0</span>: 264</li></ul></div><div class='xr-section-details'></div></li><li class='xr-section-item'><input id='section-4f29dba2-b7ce-433d-bb19-f5125cfec6de' class='xr-section-summary-in' type='checkbox'  checked><label for='section-4f29dba2-b7ce-433d-bb19-f5125cfec6de' class='xr-section-summary' >Coordinates: <span>(6)</span></label><div class='xr-section-inline-details'></div><div class='xr-section-details'><ul class='xr-var-list'><li class='xr-var-item'><div class='xr-var-name'><span class='xr-has-index'>y_0_dim_0</span></div><div class='xr-var-dims'>(y_0_dim_0)</div><div class='xr-var-dtype'>int64</div><div class='xr-var-preview xr-preview'>0 1 2 3 4 5 ... 259 260 261 262 263</div><input id='attrs-cab7ec00-0d18-4e96-b9e6-46d0d106d9f1' class='xr-var-attrs-in' type='checkbox' disabled><label for='attrs-cab7ec00-0d18-4e96-b9e6-46d0d106d9f1' title='Show/Hide attributes'><svg class='icon xr-icon-file-text2'><use xlink:href='#icon-file-text2'></use></svg></label><input id='data-dc8b73a9-5f35-4ffc-acbf-dceef1981d6d' class='xr-var-data-in' type='checkbox'><label for='data-dc8b73a9-5f35-4ffc-acbf-dceef1981d6d' title='Show/Hide data repr'><svg class='icon xr-icon-database'><use xlink:href='#icon-database'></use></svg></label><div class='xr-var-attrs'><dl class='xr-attrs'></dl></div><div class='xr-var-data'><pre>array([  0,   1,   2, ..., 261, 262, 263])</pre></div></li><li class='xr-var-item'><div class='xr-var-name'><span class='xr-has-index'>y_1_dim_0</span></div><div class='xr-var-dims'>(y_1_dim_0)</div><div class='xr-var-dtype'>int64</div><div class='xr-var-preview xr-preview'>0 1 2 3 4 5 ... 259 260 261 262 263</div><input id='attrs-477ccd6b-e85a-4d4b-8ed1-761e629b0145' class='xr-var-attrs-in' type='checkbox' disabled><label for='attrs-477ccd6b-e85a-4d4b-8ed1-761e629b0145' title='Show/Hide attributes'><svg class='icon xr-icon-file-text2'><use xlink:href='#icon-file-text2'></use></svg></label><input id='data-5a1b6ffb-d138-4397-94e6-7ae1d034980a' class='xr-var-data-in' type='checkbox'><label for='data-5a1b6ffb-d138-4397-94e6-7ae1d034980a' title='Show/Hide data repr'><svg class='icon xr-icon-database'><use xlink:href='#icon-database'></use></svg></label><div class='xr-var-attrs'><dl class='xr-attrs'></dl></div><div class='xr-var-data'><pre>array([  0,   1,   2, ..., 261, 262, 263])</pre></div></li><li class='xr-var-item'><div class='xr-var-name'><span class='xr-has-index'>y_2_dim_0</span></div><div class='xr-var-dims'>(y_2_dim_0)</div><div class='xr-var-dtype'>int64</div><div class='xr-var-preview xr-preview'>0 1 2 3 4 5 ... 259 260 261 262 263</div><input id='attrs-5dc564c7-b23a-48d2-ae2d-cc7f6ab0781a' class='xr-var-attrs-in' type='checkbox' disabled><label for='attrs-5dc564c7-b23a-48d2-ae2d-cc7f6ab0781a' title='Show/Hide attributes'><svg class='icon xr-icon-file-text2'><use xlink:href='#icon-file-text2'></use></svg></label><input id='data-f7ca25ee-4cd5-4ed7-bc18-9e517cc309e8' class='xr-var-data-in' type='checkbox'><label for='data-f7ca25ee-4cd5-4ed7-bc18-9e517cc309e8' title='Show/Hide data repr'><svg class='icon xr-icon-database'><use xlink:href='#icon-database'></use></svg></label><div class='xr-var-attrs'><dl class='xr-attrs'></dl></div><div class='xr-var-data'><pre>array([  0,   1,   2, ..., 261, 262, 263])</pre></div></li><li class='xr-var-item'><div class='xr-var-name'><span class='xr-has-index'>y_3_dim_0</span></div><div class='xr-var-dims'>(y_3_dim_0)</div><div class='xr-var-dtype'>int64</div><div class='xr-var-preview xr-preview'>0 1 2 3 4 5 ... 259 260 261 262 263</div><input id='attrs-e9783d82-1934-4a35-9757-61beecb521e3' class='xr-var-attrs-in' type='checkbox' disabled><label for='attrs-e9783d82-1934-4a35-9757-61beecb521e3' title='Show/Hide attributes'><svg class='icon xr-icon-file-text2'><use xlink:href='#icon-file-text2'></use></svg></label><input id='data-507719ce-cf64-4119-996e-ce2467856c8c' class='xr-var-data-in' type='checkbox'><label for='data-507719ce-cf64-4119-996e-ce2467856c8c' title='Show/Hide data repr'><svg class='icon xr-icon-database'><use xlink:href='#icon-database'></use></svg></label><div class='xr-var-attrs'><dl class='xr-attrs'></dl></div><div class='xr-var-data'><pre>array([  0,   1,   2, ..., 261, 262, 263])</pre></div></li><li class='xr-var-item'><div class='xr-var-name'><span class='xr-has-index'>y_4_dim_0</span></div><div class='xr-var-dims'>(y_4_dim_0)</div><div class='xr-var-dtype'>int64</div><div class='xr-var-preview xr-preview'>0 1 2 3 4 5 ... 259 260 261 262 263</div><input id='attrs-282d61c9-beea-4f2d-946b-f76a5452dd02' class='xr-var-attrs-in' type='checkbox' disabled><label for='attrs-282d61c9-beea-4f2d-946b-f76a5452dd02' title='Show/Hide attributes'><svg class='icon xr-icon-file-text2'><use xlink:href='#icon-file-text2'></use></svg></label><input id='data-49630206-2438-4508-8d40-45bfd0319d2f' class='xr-var-data-in' type='checkbox'><label for='data-49630206-2438-4508-8d40-45bfd0319d2f' title='Show/Hide data repr'><svg class='icon xr-icon-database'><use xlink:href='#icon-database'></use></svg></label><div class='xr-var-attrs'><dl class='xr-attrs'></dl></div><div class='xr-var-data'><pre>array([  0,   1,   2, ..., 261, 262, 263])</pre></div></li><li class='xr-var-item'><div class='xr-var-name'><span class='xr-has-index'>y_5_dim_0</span></div><div class='xr-var-dims'>(y_5_dim_0)</div><div class='xr-var-dtype'>int64</div><div class='xr-var-preview xr-preview'>0 1 2 3 4 5 ... 259 260 261 262 263</div><input id='attrs-5b79db18-dfea-41a4-a765-f0574bfb7037' class='xr-var-attrs-in' type='checkbox' disabled><label for='attrs-5b79db18-dfea-41a4-a765-f0574bfb7037' title='Show/Hide attributes'><svg class='icon xr-icon-file-text2'><use xlink:href='#icon-file-text2'></use></svg></label><input id='data-8aa71064-ba24-4809-b532-74aebfb7e1cb' class='xr-var-data-in' type='checkbox'><label for='data-8aa71064-ba24-4809-b532-74aebfb7e1cb' title='Show/Hide data repr'><svg class='icon xr-icon-database'><use xlink:href='#icon-database'></use></svg></label><div class='xr-var-attrs'><dl class='xr-attrs'></dl></div><div class='xr-var-data'><pre>array([  0,   1,   2, ..., 261, 262, 263])</pre></div></li></ul></div></li><li class='xr-section-item'><input id='section-bca4c5cd-da1b-4f14-8eb3-be4b3f7f3c64' class='xr-section-summary-in' type='checkbox'  checked><label for='section-bca4c5cd-da1b-4f14-8eb3-be4b3f7f3c64' class='xr-section-summary' >Data variables: <span>(6)</span></label><div class='xr-section-inline-details'></div><div class='xr-section-details'><ul class='xr-var-list'><li class='xr-var-item'><div class='xr-var-name'><span>y_0</span></div><div class='xr-var-dims'>(y_0_dim_0)</div><div class='xr-var-dtype'>float64</div><div class='xr-var-preview xr-preview'>0.0 0.0 0.0 0.0 ... 2.773 0.0 0.0</div><input id='attrs-92cbf89d-46c6-48a4-abdc-620b5af75149' class='xr-var-attrs-in' type='checkbox' disabled><label for='attrs-92cbf89d-46c6-48a4-abdc-620b5af75149' title='Show/Hide attributes'><svg class='icon xr-icon-file-text2'><use xlink:href='#icon-file-text2'></use></svg></label><input id='data-091b2fe2-02bc-4be8-a410-d79e366c3bf1' class='xr-var-data-in' type='checkbox'><label for='data-091b2fe2-02bc-4be8-a410-d79e366c3bf1' title='Show/Hide data repr'><svg class='icon xr-icon-database'><use xlink:href='#icon-database'></use></svg></label><div class='xr-var-attrs'><dl class='xr-attrs'></dl></div><div class='xr-var-data'><pre>array([0.        , 0.        , 0.        , 0.        , 0.        ,\n       0.        , 0.        , 0.        , 0.        , 0.        ,\n       0.        , 0.        , 0.        , 0.        , 0.        ,\n       0.        , 0.        , 0.        , 0.        , 0.        ,\n       0.        , 0.        , 4.21950771, 4.2341065 , 0.        ,\n       0.        , 0.        , 0.        , 0.        , 0.        ,\n       0.        , 0.        , 0.        , 0.        , 0.        ,\n       0.        , 0.        , 0.        , 0.        , 0.        ,\n       0.        , 0.        , 0.        , 0.        , 0.        ,\n       0.        , 0.        , 0.        , 0.        , 0.        ,\n       0.        , 0.        , 0.        , 0.        , 0.        ,\n       0.        , 2.30258509, 0.        , 0.        , 0.        ,\n       1.60943791, 1.94591015, 1.09861229, 3.21887582, 1.09861229,\n       4.30406509, 1.60943791, 0.        , 1.09861229, 0.        ,\n       2.48490665, 3.25809654, 0.        , 1.94591015, 0.        ,\n       2.83321334, 0.        , 0.        , 2.7080502 , 0.        ,\n       3.66356165, 4.88280192, 0.        , 2.39789527, 2.07944154,\n       0.        , 0.69314718, 0.        , 2.83321334, 3.29583687,\n       0.        , 0.        , 1.60943791, 0.        , 3.49650756,\n       1.94591015, 5.33753808, 1.38629436, 0.        , 0.        ,\n...\n       2.07944154, 4.12713439, 4.62497281, 4.06044301, 1.94591015,\n       3.09104245, 3.93182563, 2.39789527, 0.69314718, 1.38629436,\n       1.38629436, 2.48490665, 2.77258872, 2.89037176, 2.07944154,\n       2.99573227, 0.        , 1.60943791, 2.63905733, 3.95124372,\n       3.09104245, 2.77258872, 2.99573227, 1.94591015, 3.13549422,\n       1.38629436, 2.77258872, 2.39789527, 2.94443898, 1.38629436,\n       2.07944154, 0.        , 1.09861229, 2.94443898, 0.69314718,\n       1.38629436, 0.        , 0.        , 0.        , 0.        ,\n       1.09861229, 0.        , 0.        , 0.        , 0.        ,\n       0.        , 0.        , 0.        , 0.        , 0.        ,\n       0.69314718, 2.07944154, 1.79175947, 3.25809654, 4.02535169,\n       2.07944154, 0.        , 0.        , 0.        , 0.        ,\n       0.        , 0.        , 0.        , 0.        , 0.        ,\n       0.        , 0.        , 0.        , 0.        , 0.        ,\n       2.39789527, 0.        , 0.        , 0.        , 0.        ,\n       0.        , 0.        , 0.        , 0.        , 0.        ,\n       0.        , 0.        , 0.        , 0.        , 0.        ,\n       0.        , 0.        , 0.        , 0.        , 0.        ,\n       0.        , 0.        , 0.        , 0.        , 1.09861229,\n       0.        , 2.77258872, 0.        , 0.        ])</pre></div></li><li class='xr-var-item'><div class='xr-var-name'><span>y_1</span></div><div class='xr-var-dims'>(y_1_dim_0)</div><div class='xr-var-dtype'>float64</div><div class='xr-var-preview xr-preview'>0.0 0.0 3.135 ... 5.142 4.489 3.466</div><input id='attrs-e059300b-9577-40d3-bfc2-d86373cdde5e' class='xr-var-attrs-in' type='checkbox' disabled><label for='attrs-e059300b-9577-40d3-bfc2-d86373cdde5e' title='Show/Hide attributes'><svg class='icon xr-icon-file-text2'><use xlink:href='#icon-file-text2'></use></svg></label><input id='data-7fc89543-d59b-462f-8938-9bd2d9e0b968' class='xr-var-data-in' type='checkbox'><label for='data-7fc89543-d59b-462f-8938-9bd2d9e0b968' title='Show/Hide data repr'><svg class='icon xr-icon-database'><use xlink:href='#icon-database'></use></svg></label><div class='xr-var-attrs'><dl class='xr-attrs'></dl></div><div class='xr-var-data'><pre>array([0.        , 0.        , 3.13549422, 0.        , 0.        ,\n       0.        , 0.        , 0.        , 0.        , 0.        ,\n       0.        , 7.22475341, 8.00670085, 0.        , 0.        ,\n       5.30330491, 0.        , 0.        , 0.        , 0.        ,\n       6.90875478, 0.        , 6.93828448, 7.58629631, 0.        ,\n       5.01063529, 1.09861229, 0.        , 0.        , 0.        ,\n       0.        , 0.        , 1.38629436, 0.        , 0.        ,\n       0.        , 0.        , 0.        , 0.        , 0.        ,\n       0.        , 0.        , 0.        , 0.        , 0.69314718,\n       3.21887582, 0.        , 0.        , 0.        , 0.        ,\n       0.        , 0.        , 0.        , 2.94443898, 3.71357207,\n       0.        , 0.        , 3.63758616, 2.56494936, 4.87519732,\n       3.40119738, 0.69314718, 0.        , 0.        , 2.56494936,\n       0.        , 1.94591015, 3.29583687, 2.7080502 , 0.69314718,\n       0.        , 0.        , 3.13549422, 0.        , 0.        ,\n       0.        , 0.        , 2.7080502 , 3.97029191, 3.33220451,\n       0.        , 0.69314718, 0.        , 4.81218436, 0.        ,\n       0.        , 0.        , 0.        , 0.        , 0.        ,\n       0.        , 0.        , 0.        , 0.        , 0.        ,\n       0.        , 0.        , 0.        , 0.        , 0.        ,\n...\n       0.        , 0.        , 0.        , 0.        , 0.        ,\n       0.        , 0.        , 0.        , 0.        , 0.        ,\n       0.        , 0.        , 0.        , 0.        , 0.        ,\n       0.        , 0.        , 0.        , 0.        , 0.        ,\n       0.        , 0.        , 0.        , 0.        , 0.        ,\n       0.        , 0.        , 0.        , 0.        , 0.        ,\n       0.        , 0.        , 0.        , 0.        , 0.        ,\n       0.        , 0.        , 0.        , 1.38629436, 3.49650756,\n       4.24849524, 5.37989735, 6.5482191 , 2.83321334, 3.95124372,\n       4.12713439, 4.62497281, 3.8918203 , 3.95124372, 3.63758616,\n       4.09434456, 4.24849524, 3.63758616, 4.36944785, 4.95582706,\n       4.30406509, 4.4308168 , 4.21950771, 4.76217393, 4.54329478,\n       4.58496748, 4.34380542, 4.48863637, 4.44265126, 4.40671925,\n       3.36729583, 2.94443898, 5.40267738, 4.94164242, 5.35185813,\n       4.74493213, 4.55387689, 3.93182563, 4.26267988, 5.19849703,\n       4.12713439, 4.71849887, 4.94164242, 5.24174702, 4.52178858,\n       4.54329478, 5.75574221, 5.82600011, 4.81218436, 4.96284463,\n       4.80402104, 5.01727984, 4.21950771, 5.04985601, 5.11198779,\n       4.24849524, 3.68887945, 3.97029191, 3.04452244, 4.59511985,\n       2.30258509, 5.14166356, 4.48863637, 3.4657359 ])</pre></div></li><li class='xr-var-item'><div class='xr-var-name'><span>y_2</span></div><div class='xr-var-dims'>(y_2_dim_0)</div><div class='xr-var-dtype'>float64</div><div class='xr-var-preview xr-preview'>0.0 0.0 0.0 ... 2.303 0.6931 0.0</div><input id='attrs-e12d66c4-0f57-4072-aa31-3b0b7e680dae' class='xr-var-attrs-in' type='checkbox' disabled><label for='attrs-e12d66c4-0f57-4072-aa31-3b0b7e680dae' title='Show/Hide attributes'><svg class='icon xr-icon-file-text2'><use xlink:href='#icon-file-text2'></use></svg></label><input id='data-81ef930e-01fe-4431-9883-3879773d6aae' class='xr-var-data-in' type='checkbox'><label for='data-81ef930e-01fe-4431-9883-3879773d6aae' title='Show/Hide data repr'><svg class='icon xr-icon-database'><use xlink:href='#icon-database'></use></svg></label><div class='xr-var-attrs'><dl class='xr-attrs'></dl></div><div class='xr-var-data'><pre>array([0.        , 0.        , 0.        , 0.69314718, 0.69314718,\n       0.        , 0.        , 0.        , 0.69314718, 0.        ,\n       0.        , 1.79175947, 0.        , 0.        , 0.        ,\n       0.        , 0.69314718, 0.        , 0.        , 0.        ,\n       0.        , 0.        , 0.        , 0.        , 0.        ,\n       0.        , 1.09861229, 0.69314718, 0.        , 0.69314718,\n       0.69314718, 1.09861229, 0.        , 1.09861229, 0.69314718,\n       1.60943791, 0.        , 1.38629436, 0.        , 0.        ,\n       2.39789527, 0.69314718, 0.69314718, 0.        , 1.09861229,\n       1.79175947, 1.09861229, 1.09861229, 0.        , 0.69314718,\n       1.09861229, 0.        , 0.        , 0.        , 0.69314718,\n       0.        , 1.09861229, 0.        , 1.79175947, 0.        ,\n       0.        , 0.        , 0.        , 2.48490665, 0.        ,\n       1.60943791, 0.        , 0.        , 0.        , 0.        ,\n       0.69314718, 0.        , 0.        , 0.        , 0.        ,\n       0.        , 0.        , 0.        , 0.        , 0.        ,\n       2.89037176, 0.        , 0.        , 0.        , 0.        ,\n       0.        , 0.        , 0.        , 0.        , 0.        ,\n       0.        , 0.        , 0.        , 0.        , 0.        ,\n       0.        , 0.        , 0.        , 0.        , 0.        ,\n...\n       3.33220451, 1.60943791, 2.30258509, 0.        , 1.79175947,\n       3.4339872 , 0.        , 3.04452244, 1.38629436, 0.        ,\n       1.94591015, 2.19722458, 3.13549422, 1.94591015, 3.13549422,\n       2.77258872, 0.        , 0.        , 0.        , 1.38629436,\n       1.38629436, 1.38629436, 0.        , 0.        , 0.        ,\n       1.09861229, 1.79175947, 0.        , 1.94591015, 1.09861229,\n       2.83321334, 0.        , 2.89037176, 2.63905733, 1.60943791,\n       2.30258509, 2.63905733, 0.69314718, 0.69314718, 0.        ,\n       0.        , 0.        , 1.60943791, 1.60943791, 3.33220451,\n       2.83321334, 2.56494936, 2.63905733, 2.39789527, 2.56494936,\n       2.99573227, 2.07944154, 2.83321334, 1.94591015, 3.55534806,\n       2.89037176, 2.07944154, 0.69314718, 0.        , 0.        ,\n       0.        , 2.39789527, 2.48490665, 4.38202663, 0.69314718,\n       1.60943791, 1.09861229, 1.38629436, 0.        , 0.        ,\n       0.        , 0.        , 1.38629436, 0.        , 0.        ,\n       2.30258509, 0.69314718, 1.38629436, 1.09861229, 1.09861229,\n       1.94591015, 0.69314718, 0.69314718, 1.60943791, 0.        ,\n       0.        , 2.39789527, 0.69314718, 0.        , 0.69314718,\n       2.19722458, 0.        , 0.        , 0.        , 2.19722458,\n       0.69314718, 2.30258509, 0.69314718, 0.        ])</pre></div></li><li class='xr-var-item'><div class='xr-var-name'><span>y_3</span></div><div class='xr-var-dims'>(y_3_dim_0)</div><div class='xr-var-dtype'>float64</div><div class='xr-var-preview xr-preview'>0.0 0.0 0.0 0.0 ... 1.386 0.0 0.0</div><input id='attrs-47534984-9e9b-4ef7-8eca-4e6ce1199b00' class='xr-var-attrs-in' type='checkbox' disabled><label for='attrs-47534984-9e9b-4ef7-8eca-4e6ce1199b00' title='Show/Hide attributes'><svg class='icon xr-icon-file-text2'><use xlink:href='#icon-file-text2'></use></svg></label><input id='data-53e24ce4-5cd7-487d-9435-2cfc1f8dd64e' class='xr-var-data-in' type='checkbox'><label for='data-53e24ce4-5cd7-487d-9435-2cfc1f8dd64e' title='Show/Hide data repr'><svg class='icon xr-icon-database'><use xlink:href='#icon-database'></use></svg></label><div class='xr-var-attrs'><dl class='xr-attrs'></dl></div><div class='xr-var-data'><pre>array([0.        , 0.        , 0.        , 0.        , 0.        ,\n       0.        , 0.        , 0.        , 0.        , 0.        ,\n       0.        , 0.        , 0.        , 0.        , 0.        ,\n       0.        , 0.        , 0.        , 0.        , 0.        ,\n       0.        , 0.        , 0.        , 1.60943791, 0.69314718,\n       2.77258872, 1.09861229, 1.38629436, 2.30258509, 2.19722458,\n       1.94591015, 1.79175947, 2.30258509, 1.94591015, 2.19722458,\n       3.13549422, 2.07944154, 2.39789527, 3.36729583, 3.36729583,\n       3.17805383, 3.04452244, 2.94443898, 3.25809654, 2.56494936,\n       2.83321334, 3.33220451, 2.7080502 , 3.04452244, 3.4339872 ,\n       4.09434456, 1.60943791, 2.83321334, 1.60943791, 2.83321334,\n       2.83321334, 3.4657359 , 3.8501476 , 3.97029191, 3.13549422,\n       3.63758616, 2.63905733, 3.40119738, 3.09104245, 3.17805383,\n       2.56494936, 3.76120012, 4.58496748, 3.13549422, 3.93182563,\n       2.19722458, 3.21887582, 3.55534806, 3.04452244, 0.69314718,\n       2.48490665, 3.68887945, 3.95124372, 0.        , 3.29583687,\n       2.56494936, 4.07753744, 2.30258509, 3.49650756, 1.60943791,\n       2.48490665, 3.73766962, 1.60943791, 1.09861229, 1.60943791,\n       2.07944154, 2.99573227, 3.33220451, 3.25809654, 2.7080502 ,\n       4.48863637, 3.21887582, 2.7080502 , 3.04452244, 3.95124372,\n...\n       1.09861229, 1.60943791, 1.09861229, 1.09861229, 1.79175947,\n       0.        , 1.38629436, 1.60943791, 1.38629436, 2.77258872,\n       2.39789527, 1.09861229, 1.79175947, 0.69314718, 0.        ,\n       0.        , 0.        , 0.        , 2.63905733, 0.        ,\n       0.        , 0.        , 0.69314718, 0.        , 0.        ,\n       0.        , 0.        , 0.        , 0.        , 0.        ,\n       0.69314718, 0.        , 0.        , 1.09861229, 1.09861229,\n       0.        , 1.38629436, 2.30258509, 0.        , 1.38629436,\n       0.69314718, 0.        , 3.63758616, 1.09861229, 0.        ,\n       1.60943791, 0.        , 0.        , 0.69314718, 0.        ,\n       3.04452244, 0.69314718, 0.        , 0.        , 0.        ,\n       0.        , 2.19722458, 0.        , 1.09861229, 0.        ,\n       0.        , 0.        , 0.        , 2.63905733, 0.69314718,\n       2.19722458, 0.        , 0.69314718, 0.        , 0.        ,\n       0.        , 0.        , 1.38629436, 0.        , 0.        ,\n       0.        , 0.        , 1.94591015, 1.94591015, 0.        ,\n       0.        , 0.        , 0.        , 0.        , 0.        ,\n       0.        , 0.        , 0.        , 0.        , 0.        ,\n       1.09861229, 0.69314718, 1.09861229, 0.        , 1.38629436,\n       0.        , 1.38629436, 0.        , 0.        ])</pre></div></li><li class='xr-var-item'><div class='xr-var-name'><span>y_4</span></div><div class='xr-var-dims'>(y_4_dim_0)</div><div class='xr-var-dtype'>float64</div><div class='xr-var-preview xr-preview'>0.0 0.0 0.0 0.0 ... 1.386 0.0 1.386</div><input id='attrs-bc9a194e-ce8d-4ddc-9266-2a99b7f65e10' class='xr-var-attrs-in' type='checkbox' disabled><label for='attrs-bc9a194e-ce8d-4ddc-9266-2a99b7f65e10' title='Show/Hide attributes'><svg class='icon xr-icon-file-text2'><use xlink:href='#icon-file-text2'></use></svg></label><input id='data-c6e6d6ac-ddbd-4033-a43d-fdb1ef3bdfa5' class='xr-var-data-in' type='checkbox'><label for='data-c6e6d6ac-ddbd-4033-a43d-fdb1ef3bdfa5' title='Show/Hide data repr'><svg class='icon xr-icon-database'><use xlink:href='#icon-database'></use></svg></label><div class='xr-var-attrs'><dl class='xr-attrs'></dl></div><div class='xr-var-data'><pre>array([0.        , 0.        , 0.        , 0.        , 0.        ,\n       0.        , 0.        , 0.        , 0.        , 0.        ,\n       0.        , 0.        , 0.        , 0.        , 0.        ,\n       0.        , 0.        , 0.        , 0.        , 0.        ,\n       0.        , 0.        , 0.        , 0.        , 0.        ,\n       1.09861229, 0.        , 0.        , 0.69314718, 0.        ,\n       0.69314718, 0.        , 1.38629436, 0.69314718, 1.60943791,\n       0.        , 1.79175947, 0.        , 0.        , 0.        ,\n       0.        , 0.69314718, 0.        , 0.        , 3.04452244,\n       0.        , 1.38629436, 0.        , 0.69314718, 0.        ,\n       0.        , 0.        , 2.39789527, 2.48490665, 0.        ,\n       0.        , 0.        , 0.        , 0.        , 0.        ,\n       2.19722458, 0.        , 0.        , 0.        , 0.        ,\n       0.        , 0.        , 0.        , 0.        , 0.        ,\n       0.69314718, 0.        , 0.        , 1.09861229, 0.        ,\n       0.        , 0.        , 2.19722458, 0.        , 0.        ,\n       0.69314718, 0.        , 0.        , 0.        , 0.        ,\n       0.        , 0.        , 0.        , 0.        , 0.        ,\n       0.        , 1.60943791, 2.30258509, 0.        , 0.        ,\n       0.        , 2.07944154, 3.91202301, 2.39789527, 3.36729583,\n...\n       2.07944154, 1.09861229, 1.79175947, 0.        , 2.56494936,\n       2.19722458, 1.94591015, 1.79175947, 1.60943791, 0.        ,\n       1.60943791, 2.19722458, 2.56494936, 0.        , 0.69314718,\n       1.38629436, 2.07944154, 1.38629436, 1.09861229, 0.        ,\n       0.        , 1.60943791, 0.        , 0.69314718, 0.        ,\n       0.        , 1.79175947, 0.        , 0.        , 0.69314718,\n       0.        , 0.69314718, 0.        , 0.69314718, 0.        ,\n       0.69314718, 2.48490665, 0.        , 0.        , 0.        ,\n       1.79175947, 0.        , 0.69314718, 1.60943791, 1.38629436,\n       2.77258872, 2.07944154, 3.76120012, 1.79175947, 0.        ,\n       0.        , 2.39789527, 2.30258509, 1.60943791, 2.94443898,\n       1.09861229, 1.94591015, 0.        , 4.02535169, 1.94591015,\n       0.        , 0.        , 0.69314718, 0.        , 1.79175947,\n       1.79175947, 1.09861229, 2.30258509, 2.39789527, 1.60943791,\n       1.38629436, 0.69314718, 1.60943791, 1.94591015, 0.69314718,\n       1.60943791, 0.69314718, 1.79175947, 1.09861229, 1.94591015,\n       2.56494936, 1.60943791, 2.19722458, 1.09861229, 1.09861229,\n       1.94591015, 1.09861229, 0.69314718, 2.07944154, 2.07944154,\n       3.04452244, 1.60943791, 2.07944154, 2.48490665, 2.07944154,\n       2.63905733, 1.38629436, 0.        , 1.38629436])</pre></div></li><li class='xr-var-item'><div class='xr-var-name'><span>y_5</span></div><div class='xr-var-dims'>(y_5_dim_0)</div><div class='xr-var-dtype'>float64</div><div class='xr-var-preview xr-preview'>0.0 0.0 0.0 0.0 ... 1.386 0.0 0.0</div><input id='attrs-81f57307-a69c-4980-834a-7a2e111a29cc' class='xr-var-attrs-in' type='checkbox' disabled><label for='attrs-81f57307-a69c-4980-834a-7a2e111a29cc' title='Show/Hide attributes'><svg class='icon xr-icon-file-text2'><use xlink:href='#icon-file-text2'></use></svg></label><input id='data-99b5638f-6ed5-4990-abb8-4933196e6ab5' class='xr-var-data-in' type='checkbox'><label for='data-99b5638f-6ed5-4990-abb8-4933196e6ab5' title='Show/Hide data repr'><svg class='icon xr-icon-database'><use xlink:href='#icon-database'></use></svg></label><div class='xr-var-attrs'><dl class='xr-attrs'></dl></div><div class='xr-var-data'><pre>array([0.        , 0.        , 0.        , 0.        , 0.        ,\n       0.        , 0.        , 0.        , 0.        , 0.        ,\n       0.        , 0.        , 0.        , 0.        , 0.        ,\n       0.        , 0.        , 0.        , 0.        , 0.        ,\n       0.        , 0.        , 0.        , 0.        , 0.        ,\n       0.        , 0.        , 0.        , 0.        , 0.        ,\n       0.        , 0.        , 0.        , 0.        , 0.        ,\n       0.        , 0.        , 0.        , 0.        , 0.        ,\n       0.        , 0.        , 0.        , 0.        , 0.69314718,\n       0.        , 1.09861229, 0.        , 0.        , 0.        ,\n       0.        , 0.        , 2.7080502 , 0.        , 0.        ,\n       0.69314718, 0.        , 0.69314718, 0.        , 0.        ,\n       0.        , 3.73766962, 0.        , 0.        , 0.        ,\n       1.79175947, 0.        , 2.07944154, 0.        , 0.        ,\n       1.79175947, 0.        , 0.        , 0.        , 0.        ,\n       2.7080502 , 0.        , 0.        , 0.        , 0.        ,\n       1.38629436, 0.        , 0.        , 0.        , 0.        ,\n       0.        , 0.        , 0.        , 0.        , 0.        ,\n       0.        , 0.        , 0.        , 0.        , 0.        ,\n       0.        , 0.        , 0.        , 1.09861229, 1.09861229,\n...\n       2.94443898, 0.69314718, 1.09861229, 1.38629436, 1.09861229,\n       0.        , 0.        , 1.38629436, 1.38629436, 0.        ,\n       1.09861229, 0.        , 1.38629436, 0.        , 1.60943791,\n       0.        , 0.        , 1.38629436, 0.        , 0.        ,\n       0.69314718, 0.        , 1.09861229, 0.        , 0.        ,\n       0.        , 0.        , 0.        , 0.69314718, 0.        ,\n       0.        , 1.38629436, 1.38629436, 0.        , 0.        ,\n       1.38629436, 1.60943791, 0.        , 0.        , 0.        ,\n       0.        , 0.        , 0.        , 1.94591015, 1.09861229,\n       2.19722458, 0.        , 1.94591015, 0.        , 0.69314718,\n       0.        , 1.60943791, 0.69314718, 0.69314718, 1.38629436,\n       1.09861229, 0.        , 0.        , 2.63905733, 0.        ,\n       1.09861229, 0.        , 0.        , 1.38629436, 1.09861229,\n       1.79175947, 1.79175947, 1.79175947, 0.69314718, 1.94591015,\n       0.69314718, 1.60943791, 0.        , 1.38629436, 0.        ,\n       1.09861229, 2.07944154, 0.        , 0.        , 0.        ,\n       2.07944154, 1.09861229, 2.48490665, 0.        , 0.        ,\n       1.79175947, 0.        , 0.        , 0.        , 0.69314718,\n       2.99573227, 1.38629436, 1.38629436, 1.09861229, 1.60943791,\n       0.69314718, 1.38629436, 0.        , 0.        ])</pre></div></li></ul></div></li><li class='xr-section-item'><input id='section-715b15d2-2d63-464e-bfba-baa38310a4d7' class='xr-section-summary-in' type='checkbox'  checked><label for='section-715b15d2-2d63-464e-bfba-baa38310a4d7' class='xr-section-summary' >Attributes: <span>(4)</span></label><div class='xr-section-inline-details'></div><div class='xr-section-details'><dl class='xr-attrs'><dt><span>created_at :</span></dt><dd>2021-03-15T11:10:48.120166</dd><dt><span>arviz_version :</span></dt><dd>0.11.2</dd><dt><span>inference_library :</span></dt><dd>pymc3</dd><dt><span>inference_library_version :</span></dt><dd>3.11.1</dd></dl></div></li></ul></div></div><br></div>\n                      </ul>\n                  </div>\n            </li>\n            \n              </ul>\n            </div>\n            <style> /* CSS stylesheet for displaying InferenceData objects in jupyterlab.\n *\n */\n\n:root {\n  --xr-font-color0: var(--jp-content-font-color0, rgba(0, 0, 0, 1));\n  --xr-font-color2: var(--jp-content-font-color2, rgba(0, 0, 0, 0.54));\n  --xr-font-color3: var(--jp-content-font-color3, rgba(0, 0, 0, 0.38));\n  --xr-border-color: var(--jp-border-color2, #e0e0e0);\n  --xr-disabled-color: var(--jp-layout-color3, #bdbdbd);\n  --xr-background-color: var(--jp-layout-color0, white);\n  --xr-background-color-row-even: var(--jp-layout-color1, white);\n  --xr-background-color-row-odd: var(--jp-layout-color2, #eeeeee);\n}\n\nhtml[theme=dark],\nbody.vscode-dark {\n  --xr-font-color0: rgba(255, 255, 255, 1);\n  --xr-font-color2: rgba(255, 255, 255, 0.54);\n  --xr-font-color3: rgba(255, 255, 255, 0.38);\n  --xr-border-color: #1F1F1F;\n  --xr-disabled-color: #515151;\n  --xr-background-color: #111111;\n  --xr-background-color-row-even: #111111;\n  --xr-background-color-row-odd: #313131;\n}\n\n.xr-wrap {\n  display: block;\n  min-width: 300px;\n  max-width: 700px;\n}\n\n.xr-text-repr-fallback {\n  /* fallback to plain text repr when CSS is not injected (untrusted notebook) */\n  display: none;\n}\n\n.xr-header {\n  padding-top: 6px;\n  padding-bottom: 6px;\n  margin-bottom: 4px;\n  border-bottom: solid 1px var(--xr-border-color);\n}\n\n.xr-header > div,\n.xr-header > ul {\n  display: inline;\n  margin-top: 0;\n  margin-bottom: 0;\n}\n\n.xr-obj-type,\n.xr-array-name {\n  margin-left: 2px;\n  margin-right: 10px;\n}\n\n.xr-obj-type {\n  color: var(--xr-font-color2);\n}\n\n.xr-sections {\n  padding-left: 0 !important;\n  display: grid;\n  grid-template-columns: 150px auto auto 1fr 20px 20px;\n}\n\n.xr-sections.group-sections {\n  grid-template-columns: auto;\n}\n\n.xr-section-item {\n  display: contents;\n}\n\n.xr-section-item input {\n  display: none;\n}\n\n.xr-section-item input + label {\n  color: var(--xr-disabled-color);\n}\n\n.xr-section-item input:enabled + label {\n  cursor: pointer;\n  color: var(--xr-font-color2);\n}\n\n.xr-section-item input:enabled + label:hover {\n  color: var(--xr-font-color0);\n}\n\n.xr-section-summary {\n  grid-column: 1;\n  color: var(--xr-font-color2);\n  font-weight: 500;\n}\n\n.xr-section-summary > span {\n  display: inline-block;\n  padding-left: 0.5em;\n}\n\n.xr-section-summary-in:disabled + label {\n  color: var(--xr-font-color2);\n}\n\n.xr-section-summary-in + label:before {\n  display: inline-block;\n  content: '►';\n  font-size: 11px;\n  width: 15px;\n  text-align: center;\n}\n\n.xr-section-summary-in:disabled + label:before {\n  color: var(--xr-disabled-color);\n}\n\n.xr-section-summary-in:checked + label:before {\n  content: '▼';\n}\n\n.xr-section-summary-in:checked + label > span {\n  display: none;\n}\n\n.xr-section-summary,\n.xr-section-inline-details {\n  padding-top: 4px;\n  padding-bottom: 4px;\n}\n\n.xr-section-inline-details {\n  grid-column: 2 / -1;\n}\n\n.xr-section-details {\n  display: none;\n  grid-column: 1 / -1;\n  margin-bottom: 5px;\n}\n\n.xr-section-summary-in:checked ~ .xr-section-details {\n  display: contents;\n}\n\n.xr-array-wrap {\n  grid-column: 1 / -1;\n  display: grid;\n  grid-template-columns: 20px auto;\n}\n\n.xr-array-wrap > label {\n  grid-column: 1;\n  vertical-align: top;\n}\n\n.xr-preview {\n  color: var(--xr-font-color3);\n}\n\n.xr-array-preview,\n.xr-array-data {\n  padding: 0 5px !important;\n  grid-column: 2;\n}\n\n.xr-array-data,\n.xr-array-in:checked ~ .xr-array-preview {\n  display: none;\n}\n\n.xr-array-in:checked ~ .xr-array-data,\n.xr-array-preview {\n  display: inline-block;\n}\n\n.xr-dim-list {\n  display: inline-block !important;\n  list-style: none;\n  padding: 0 !important;\n  margin: 0;\n}\n\n.xr-dim-list li {\n  display: inline-block;\n  padding: 0;\n  margin: 0;\n}\n\n.xr-dim-list:before {\n  content: '(';\n}\n\n.xr-dim-list:after {\n  content: ')';\n}\n\n.xr-dim-list li:not(:last-child):after {\n  content: ',';\n  padding-right: 5px;\n}\n\n.xr-has-index {\n  font-weight: bold;\n}\n\n.xr-var-list,\n.xr-var-item {\n  display: contents;\n}\n\n.xr-var-item > div,\n.xr-var-item label,\n.xr-var-item > .xr-var-name span {\n  background-color: var(--xr-background-color-row-even);\n  margin-bottom: 0;\n}\n\n.xr-var-item > .xr-var-name:hover span {\n  padding-right: 5px;\n}\n\n.xr-var-list > li:nth-child(odd) > div,\n.xr-var-list > li:nth-child(odd) > label,\n.xr-var-list > li:nth-child(odd) > .xr-var-name span {\n  background-color: var(--xr-background-color-row-odd);\n}\n\n.xr-var-name {\n  grid-column: 1;\n}\n\n.xr-var-dims {\n  grid-column: 2;\n}\n\n.xr-var-dtype {\n  grid-column: 3;\n  text-align: right;\n  color: var(--xr-font-color2);\n}\n\n.xr-var-preview {\n  grid-column: 4;\n}\n\n.xr-var-name,\n.xr-var-dims,\n.xr-var-dtype,\n.xr-preview,\n.xr-attrs dt {\n  white-space: nowrap;\n  overflow: hidden;\n  text-overflow: ellipsis;\n  padding-right: 10px;\n}\n\n.xr-var-name:hover,\n.xr-var-dims:hover,\n.xr-var-dtype:hover,\n.xr-attrs dt:hover {\n  overflow: visible;\n  width: auto;\n  z-index: 1;\n}\n\n.xr-var-attrs,\n.xr-var-data {\n  display: none;\n  background-color: var(--xr-background-color) !important;\n  padding-bottom: 5px !important;\n}\n\n.xr-var-attrs-in:checked ~ .xr-var-attrs,\n.xr-var-data-in:checked ~ .xr-var-data {\n  display: block;\n}\n\n.xr-var-data > table {\n  float: right;\n}\n\n.xr-var-name span,\n.xr-var-data,\n.xr-attrs {\n  padding-left: 25px !important;\n}\n\n.xr-attrs,\n.xr-var-attrs,\n.xr-var-data {\n  grid-column: 1 / -1;\n}\n\ndl.xr-attrs {\n  padding: 0;\n  margin: 0;\n  display: grid;\n  grid-template-columns: 125px auto;\n}\n\n.xr-attrs dt, dd {\n  padding: 0;\n  margin: 0;\n  float: left;\n  padding-right: 10px;\n  width: auto;\n}\n\n.xr-attrs dt {\n  font-weight: normal;\n  grid-column: 1;\n}\n\n.xr-attrs dt:hover span {\n  display: inline-block;\n  background: var(--xr-background-color);\n  padding-right: 10px;\n}\n\n.xr-attrs dd {\n  grid-column: 2;\n  white-space: pre-wrap;\n  word-break: break-all;\n}\n\n.xr-icon-database,\n.xr-icon-file-text2 {\n  display: inline-block;\n  vertical-align: middle;\n  width: 1em;\n  height: 1.5em !important;\n  stroke-width: 0;\n  stroke: currentColor;\n  fill: currentColor;\n}\n.xr-wrap{width:700px!important;} </style>"
     },
     "metadata": {},
     "execution_count": 7
    }
   ],
   "source": [
    "mp = {'ℓ' : np.array([pm.summary(trace)['mean'].iloc[0]]),  \n",
    "      'η': np.array([pm.summary(trace)['mean'].iloc[1]]), \n",
    "      'σ' : np.array([pm.summary(trace)['mean'].iloc[2]])}"
   ]
  },
  {
   "cell_type": "code",
   "execution_count": null,
   "metadata": {},
   "outputs": [],
   "source": [
    "file_name = \"/home/projects/ku_00017/data/generated/currents/tt_Exp_Mar32_sb_trace.pkl\"\n",
    "output = open(file_name, 'wb') \n",
    "pickle.dump(trace, output)\n",
    "output.close()\n",
    "\n",
    "file_name = \"/home/projects/ku_00017/data/generated/currents/tt_Exp_Mar32_sb_mp.pkl\"\n",
    "output = open(file_name, 'wb') \n",
    "pickle.dump(mp, output)\n",
    "output.close()"
   ]
  }
 ]
}