{
 "metadata": {
  "language_info": {
   "codemirror_mode": {
    "name": "ipython",
    "version": 3
   },
   "file_extension": ".py",
   "mimetype": "text/x-python",
   "name": "python",
   "nbconvert_exporter": "python",
   "pygments_lexer": "ipython3",
   "version": "3.8.6-final"
  },
  "orig_nbformat": 2,
  "kernelspec": {
   "name": "python3",
   "display_name": "Python 3",
   "language": "python"
  }
 },
 "nbformat": 4,
 "nbformat_minor": 2,
 "cells": [
  {
   "cell_type": "code",
   "execution_count": 1,
   "metadata": {},
   "outputs": [],
   "source": [
    "import os\n",
    "import numpy as np\n",
    "import pandas as pd\n",
    "import matplotlib.pyplot as plt\n",
    "import seaborn as sns\n",
    "\n",
    "import pickle\n",
    "import time\n",
    "\n",
    "from IPython.display import clear_output\n",
    "\n",
    "from utils import get_views_coord\n",
    "from utils import test_val_train\n",
    "from utils import sample_conflict_timeline\n",
    "from utils import get_hyper_priors\n",
    "from utils import predict\n",
    "from utils import plot_predictions\n",
    "from utils import get_mse\n",
    "from utils import get_metrics\n",
    "\n",
    "import pymc3 as pm\n",
    "\n",
    "from sklearn.ensemble import RandomForestClassifier\n",
    "from sklearn.ensemble import AdaBoostClassifier\n",
    "from sklearn.linear_model import LogisticRegression\n",
    "from sklearn.metrics import mean_squared_error\n",
    "from sklearn import metrics\n",
    "\n"
   ]
  },
  {
   "source": [
    "Todo:\n",
    "\n",
    "1) Make ready to run eksperiments on comuterome.   \n",
    "    + What you could to loop over:\n",
    "        > C for estimation (C for pred is given as all)\n",
    "        > Kernel for short term trend\n",
    "        > sb, ns, os and all\n",
    "        > individuel mean function\n",
    "\n",
    "----------------------\n",
    "\n",
    "\n",
    "Q's) \n",
    "- why don't they use 1989 for train?\n",
    "\n",
    "old note (maybe still relevatn):\n",
    "So, you wnat to make it as a function that can by iterated over, shitching C and shortterm cov - and maybe even priors. It needs to give out mse and save it. You also need to be able to survey/plot the models you afterwards find most interesting.\n",
    "\n",
    "remember you are only running on ged_sb_best. but that is an experiament perhaps to run...\n",
    "- Do they exhipist different lenght scale?\n",
    "- Are one easier to predict than others?\n",
    "- Can they inform each other?\n",
    "- Does it make any difference if we pool them?\n",
    "->> But keep in mind how much you want wich this paper and that the main concerne is to make it comparebal to ViEWS; which uses sb in the presented paper..\n",
    "-> But it would still be super nice to know, and to ahve in the appendix..\n",
    "\n",
    "\n",
    "\n",
    "43.3 minutes with 148 time-lines  \n",
    "C = 100 # -> 6 obs  \n",
    "C = 64 # -> 12 obs  \n",
    "C = 40 # -> 38 obs  \n",
    "C = 32 # -> 60 obs  \n",
    "C = 24 # -> 87 obs  \n",
    "C = 16 # -> 158 obs  "
   ],
   "cell_type": "markdown",
   "metadata": {}
  },
  {
   "cell_type": "code",
   "execution_count": 2,
   "metadata": {},
   "outputs": [],
   "source": [
    "#C_est = 32 # minimum number of conf in timeslines used to est hyper parameters\n",
    "#C_pred = 32 # minimum number of conf in timeslines predicted. C = 0 for full run\n",
    "#C_pred = 0\n",
    "\n",
    "# conflict type. Som might need lower c_est than 100 to work\n",
    "#conf_type = 'ged_best_sb' \n",
    "#conf_type = 'ged_best_ns' \n",
    "#conf_type = 'ged_best_os' \n",
    "#conf_type = 'ged_best' \n",
    "\n",
    "# short term kernel\n",
    "# s_kernel = 'ExpQuad' \n",
    "# s_kernel = 'RatQuad' \n",
    "# s_kernel = 'Matern32' \n",
    "# s_kernel = 'Matern52' "
   ]
  },
  {
   "cell_type": "code",
   "execution_count": 3,
   "metadata": {},
   "outputs": [],
   "source": [
    "# dict for the dfs/dicts holding the results\n",
    "eksperiments_dict = {}\n",
    "\n",
    "# minimum number of conf in timeslines predicted. C = 0 for full run\n",
    "C_pred = 32 \n",
    "#C_pred = 0\n",
    "\n",
    "# minimum number of conf in timeslines used to est hyper parameters\n",
    "C_est_list = [16, 32, 64]\n",
    "\n",
    "# conflict type. Som might need lower c_est than 100 to work\n",
    "conf_type_list = ['ged_best_sb', 'ged_best_ns', 'ged_best_os', 'ged_best']\n",
    "\n",
    "# short term kernel\n",
    "s_kernel_list = ['ExpQuad', 'RatQuad', 'Matern32', 'Matern52']"
   ]
  },
  {
   "cell_type": "code",
   "execution_count": 4,
   "metadata": {},
   "outputs": [
    {
     "output_type": "stream",
     "name": "stdout",
     "text": [
      "Run for 14.2 minutes\n"
     ]
    }
   ],
   "source": [
    "C_est = C_est_list[2]\n",
    "conf_type = conf_type_list[0]\n",
    "s_kernel = s_kernel_list[0]\n",
    "\n",
    "N=None # if you want to sample a subset of the time lines drawn given c_est/C_pred\n",
    "seed = 42 # the random seed used if you set N != None\n",
    "dem = False # not sure this is in use..\n",
    "\n",
    "# Start timer\n",
    "start_time = time.time()\n",
    "\n",
    "# get df:\n",
    "df = get_views_coord()\n",
    "\n",
    "# get train and validation id:\n",
    "train_id, val_id = test_val_train(df)\n",
    "\n",
    "# get train (train + val) and test id:\n",
    "# train_id, test_id = test_val_train(df, test_time = True)\n",
    "\n",
    "# if you want to plot the hyper priors\n",
    "# hyper_priors_dict = get_hyper_priors(plot = True)\n",
    "\n",
    "# Constuction the gps and getting the map\n",
    "hps = get_hyper_priors(plot = False)\n",
    "\n",
    "with pm.Model() as model:\n",
    "\n",
    "    # short term trend/irregularities ---------------------------------\n",
    "\n",
    "    ℓ_s = pm.Gamma(\"ℓ_s\", alpha=hps['ℓ_alpha_s'] , beta=hps['ℓ_beta_s'])\n",
    "    η_s = pm.HalfCauchy(\"η_s\", beta=hps['η_beta_s'])\n",
    "\n",
    "    # mean func for short term trend\n",
    "    mean_s =  pm.gp.mean.Zero()\n",
    "\n",
    "    # cov function for short term trend\n",
    "    if s_kernel == 'ExpQuad': \n",
    "        cov_s = η_s ** 2 * pm.gp.cov.ExpQuad(1, ℓ_s) \n",
    "\n",
    "    elif s_kernel == 'Matern32': \n",
    "        cov_s = η_s ** 2 * pm.gp.cov.Matern32(1, ℓ_s) \n",
    "\n",
    "    elif s_kernel == 'Matern52': \n",
    "        cov_s = η_s ** 2 * pm.gp.cov.Matern32(1, ℓ_s) \n",
    "\n",
    "    elif s_kernel == 'RatQuad': \n",
    "\n",
    "        α_s = pm.Gamma(\"α_s\", alpha=hps['α_alpha_s'], beta=hps['α_beta_s']) \n",
    "        cov_s = η_s ** 2 * pm.gp.cov.RatQuad(1, ℓ_s, α_s) # this seems to help alot when you split the trends below\n",
    "\n",
    "    # GP short term trend \n",
    "    gp_s = pm.gp.Marginal(mean_func = mean_s, cov_func=cov_s)\n",
    "\n",
    "\n",
    "    # long term trend -------------------------------------------------\n",
    "    ℓ_l = pm.Gamma(\"ℓ_l\", alpha=hps['ℓ_alpha_l'] , beta=hps['ℓ_beta_l'])\n",
    "    η_l = pm.HalfCauchy(\"η_l\", beta=hps['η_beta_l'])\n",
    "    \n",
    "    # mean and kernal for long term trend\n",
    "    mean_l =  pm.gp.mean.Zero()\n",
    "    cov_l = η_l **2 * pm.gp.cov.ExpQuad(1, ℓ_l) # Cov func.\n",
    "    \n",
    "    # GP short term trend \n",
    "    gp_l = pm.gp.Marginal(mean_func = mean_l, cov_func=cov_l)\n",
    "\n",
    "\n",
    "    # noise (constant \"white noise\") -----------------------------------\n",
    "    σ = pm.HalfCauchy(\"σ\", beta=hps['σ_beta'])\n",
    "\n",
    "\n",
    "    # sample and split X,y ---------------------------------------------  \n",
    "    X, y, _, _ = sample_conflict_timeline(conf_type = conf_type, df = df, train_id = train_id, test_id = val_id, C = C_est, N = None)\n",
    "\n",
    "    # Full GP ----------------------------------------------------------\n",
    "    gp = gp_s + gp_l\n",
    "\n",
    "    # sample:\n",
    "    for i in range(y.shape[1]):\n",
    "        \n",
    "        print(f'Time-line {i+1}/{y.shape[1]} in the works...') \n",
    "        clear_output(wait=True)\n",
    "\n",
    "        y_ = gp.marginal_likelihood(f'y_{i}', X=X[:,i][:,None], y=y[:,i], noise= σ)\n",
    "        \n",
    "    \n",
    "    mp = pm.find_MAP()\n",
    "\n",
    "# get alpha if you used the Rational Quadratic kernel for short term\n",
    "if s_kernel == 'RatQuad':\n",
    "\n",
    "    map_df = pd.DataFrame({\n",
    "        \"Parameter\": [\"ℓ_s\", \"η_s\", \"α_s\", \"ℓ_l\", \"η_l\", \"σ\"],\n",
    "        \"Value at MAP\": [float(mp[\"ℓ_s\"]), float(mp[\"η_s\"]), float(mp[\"α_s\"]), float(mp[\"ℓ_l\"]), float(mp[\"η_l\"]), float(mp[\"σ\"])]\n",
    "    })\n",
    "\n",
    "# if Exponentiated Quadratic og Matern kernel were used ignore alpha\n",
    "else:\n",
    "\n",
    "        map_df = pd.DataFrame({\n",
    "        \"Parameter\": [\"ℓ_s\", \"η_s\", \"ℓ_l\", \"η_l\", \"σ\"],\n",
    "        \"Value at MAP\": [float(mp[\"ℓ_s\"]), float(mp[\"η_s\"]), float(mp[\"ℓ_l\"]), float(mp[\"η_l\"]), float(mp[\"σ\"])]\n",
    "    }) \n",
    "\n",
    "# Getting the predictions and merging with original df:\n",
    "df_new = predict(conf_type = conf_type, df = df, train_id = train_id, test_id = val_id, mp = mp, gp = gp, gp_s = gp_s, gp_l = gp_l, σ=σ, C=C_pred)\n",
    "\n",
    "df_merged = pd.merge(df_new, df[['id', 'pg_id','year','gwcode', 'xcoord', 'ycoord','ged_best_sb','ged_best_ns', 'ged_best_os', 'ged_best']], how = 'left', on = 'id') \n",
    "\n",
    "# plot sanity check, but not if you have many time lines\n",
    "# plot_predictions(df_merged = df_merged)\n",
    "\n",
    "# getting mse results:\n",
    "mse_resutls_df, mse_dict = get_mse(df_merged = df_merged, train_id = train_id, test_id = val_id)\n",
    "\n",
    "# Creating devrivatives:\n",
    "df_merged.sort_values(['pg_id', 'X'], inplace= True)\n",
    "df_merged['mu_l_slope'] = df_merged.groupby('pg_id')['mu_l'].transform(np.gradient)\n",
    "df_merged['mu_l_acc'] = df_merged.groupby('pg_id')['mu_l_slope'].transform(np.gradient)\n",
    "df_merged['mu_l_mass'] = df_merged.groupby('pg_id')['mu_l'].transform(np.cumsum)\n",
    " \n",
    "# Get classification results\n",
    "df_results = get_metrics(df_merged = df_merged, train_id = train_id, test_id = val_id)\n",
    "\n",
    "\n",
    "# end timer\n",
    "final_time = time.time()\n",
    "final_run_time = final_time - start_time\n",
    "\n",
    "string = f'Run for {final_run_time/60:.3} minutes'\n",
    "print(string)\n",
    "\n",
    "# \"filing\" names\n",
    "pre_script_map_df = f'{C_est}_{conf_type}_{s_kernel}_map_df'\n",
    "pre_script_mse_resutls_df = f'{C_est}_{conf_type}_{s_kernel}_mse_resutls_df'\n",
    "pre_script_mse_dict = f'{C_est}_{conf_type}_{s_kernel}_mse_dict'\n",
    "pre_script_df_results = f'{C_est}_{conf_type}_{s_kernel}_df_results'\n",
    "\n",
    "# Save in the eksperiments_dict\n",
    "eksperiments_dict[pre_script_map_df] = map_df\n",
    "eksperiments_dict[pre_script_mse_resutls_df] = mse_resutls_df\n",
    "eksperiments_dict[pre_script_mse_dict] = mse_dict\n",
    "eksperiments_dict[pre_script_df_results] = df_results"
   ]
  },
  {
   "source": [
    "eksperiments_dict.keys()"
   ],
   "cell_type": "code",
   "metadata": {},
   "execution_count": 10,
   "outputs": [
    {
     "output_type": "execute_result",
     "data": {
      "text/plain": [
       "dict_keys(['46_ged_best_sb_ExpQuad_map_df', '46_ged_best_sb_ExpQuad_mse_resutls_df', '46_ged_best_sb_ExpQuad_mse_dict', '46_ged_best_sb_ExpQuad_df_results'])"
      ]
     },
     "metadata": {},
     "execution_count": 10
    }
   ]
  },
  {
   "source": [
    "Just checks to remove."
   ],
   "cell_type": "markdown",
   "metadata": {}
  },
  {
   "cell_type": "code",
   "execution_count": 5,
   "metadata": {},
   "outputs": [
    {
     "output_type": "execute_result",
     "data": {
      "text/plain": [
       "  Parameter  Value at MAP\n",
       "0       ℓ_s      2.835459\n",
       "1       η_s      0.263853\n",
       "2       ℓ_l     34.679886\n",
       "3       η_l      0.645444\n",
       "4         σ      0.719196"
      ],
      "text/html": "<div>\n<style scoped>\n    .dataframe tbody tr th:only-of-type {\n        vertical-align: middle;\n    }\n\n    .dataframe tbody tr th {\n        vertical-align: top;\n    }\n\n    .dataframe thead th {\n        text-align: right;\n    }\n</style>\n<table border=\"1\" class=\"dataframe\">\n  <thead>\n    <tr style=\"text-align: right;\">\n      <th></th>\n      <th>Parameter</th>\n      <th>Value at MAP</th>\n    </tr>\n  </thead>\n  <tbody>\n    <tr>\n      <th>0</th>\n      <td>ℓ_s</td>\n      <td>2.835459</td>\n    </tr>\n    <tr>\n      <th>1</th>\n      <td>η_s</td>\n      <td>0.263853</td>\n    </tr>\n    <tr>\n      <th>2</th>\n      <td>ℓ_l</td>\n      <td>34.679886</td>\n    </tr>\n    <tr>\n      <th>3</th>\n      <td>η_l</td>\n      <td>0.645444</td>\n    </tr>\n    <tr>\n      <th>4</th>\n      <td>σ</td>\n      <td>0.719196</td>\n    </tr>\n  </tbody>\n</table>\n</div>"
     },
     "metadata": {},
     "execution_count": 5
    }
   ],
   "source": [
    "map_df"
   ]
  },
  {
   "cell_type": "code",
   "execution_count": 6,
   "metadata": {},
   "outputs": [
    {
     "output_type": "execute_result",
     "data": {
      "text/plain": [
       "     Gps  MSE insample (mean)  MSE insample (sd)  MSE outsample (mean)  \\\n",
       "0   Full             0.342658           0.334677              0.935702   \n",
       "1  Short             0.649301           1.017588              1.249151   \n",
       "2   long             0.421201           0.424098              0.938698   \n",
       "\n",
       "   MSE outsample (sd)  \n",
       "0            1.155332  \n",
       "1            1.927726  \n",
       "2            1.160042  "
      ],
      "text/html": "<div>\n<style scoped>\n    .dataframe tbody tr th:only-of-type {\n        vertical-align: middle;\n    }\n\n    .dataframe tbody tr th {\n        vertical-align: top;\n    }\n\n    .dataframe thead th {\n        text-align: right;\n    }\n</style>\n<table border=\"1\" class=\"dataframe\">\n  <thead>\n    <tr style=\"text-align: right;\">\n      <th></th>\n      <th>Gps</th>\n      <th>MSE insample (mean)</th>\n      <th>MSE insample (sd)</th>\n      <th>MSE outsample (mean)</th>\n      <th>MSE outsample (sd)</th>\n    </tr>\n  </thead>\n  <tbody>\n    <tr>\n      <th>0</th>\n      <td>Full</td>\n      <td>0.342658</td>\n      <td>0.334677</td>\n      <td>0.935702</td>\n      <td>1.155332</td>\n    </tr>\n    <tr>\n      <th>1</th>\n      <td>Short</td>\n      <td>0.649301</td>\n      <td>1.017588</td>\n      <td>1.249151</td>\n      <td>1.927726</td>\n    </tr>\n    <tr>\n      <th>2</th>\n      <td>long</td>\n      <td>0.421201</td>\n      <td>0.424098</td>\n      <td>0.938698</td>\n      <td>1.160042</td>\n    </tr>\n  </tbody>\n</table>\n</div>"
     },
     "metadata": {},
     "execution_count": 6
    }
   ],
   "source": [
    "mse_resutls_df\n",
    "# mse_dict"
   ]
  },
  {
   "cell_type": "code",
   "execution_count": 7,
   "metadata": {},
   "outputs": [
    {
     "output_type": "execute_result",
     "data": {
      "text/plain": [
       "  Metrics     Train      Test\n",
       "0     AUC  0.917689  0.674968\n",
       "1      AP  0.644611  0.493350\n",
       "2      BS  0.067585  0.144771"
      ],
      "text/html": "<div>\n<style scoped>\n    .dataframe tbody tr th:only-of-type {\n        vertical-align: middle;\n    }\n\n    .dataframe tbody tr th {\n        vertical-align: top;\n    }\n\n    .dataframe thead th {\n        text-align: right;\n    }\n</style>\n<table border=\"1\" class=\"dataframe\">\n  <thead>\n    <tr style=\"text-align: right;\">\n      <th></th>\n      <th>Metrics</th>\n      <th>Train</th>\n      <th>Test</th>\n    </tr>\n  </thead>\n  <tbody>\n    <tr>\n      <th>0</th>\n      <td>AUC</td>\n      <td>0.917689</td>\n      <td>0.674968</td>\n    </tr>\n    <tr>\n      <th>1</th>\n      <td>AP</td>\n      <td>0.644611</td>\n      <td>0.493350</td>\n    </tr>\n    <tr>\n      <th>2</th>\n      <td>BS</td>\n      <td>0.067585</td>\n      <td>0.144771</td>\n    </tr>\n  </tbody>\n</table>\n</div>"
     },
     "metadata": {},
     "execution_count": 7
    }
   ],
   "source": [
    "df_results"
   ]
  }
 ]
}