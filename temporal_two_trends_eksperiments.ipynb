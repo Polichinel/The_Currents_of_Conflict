{
 "metadata": {
  "language_info": {
   "codemirror_mode": {
    "name": "ipython",
    "version": 3
   },
   "file_extension": ".py",
   "mimetype": "text/x-python",
   "name": "python",
   "nbconvert_exporter": "python",
   "pygments_lexer": "ipython3",
   "version": "3.8.6-final"
  },
  "orig_nbformat": 2,
  "kernelspec": {
   "name": "python3",
   "display_name": "Python 3",
   "language": "python"
  }
 },
 "nbformat": 4,
 "nbformat_minor": 2,
 "cells": [
  {
   "cell_type": "code",
   "execution_count": 1,
   "metadata": {},
   "outputs": [],
   "source": [
    "import os\n",
    "import numpy as np\n",
    "import pandas as pd\n",
    "import matplotlib.pyplot as plt\n",
    "import seaborn as sns\n",
    "\n",
    "import pickle\n",
    "import time\n",
    "\n",
    "from IPython.display import clear_output\n",
    "\n",
    "from utils import get_views_coord\n",
    "from utils import test_val_train\n",
    "from utils import sample_conflict_timeline\n",
    "from utils import get_hyper_priors\n",
    "from utils import predict\n",
    "from utils import plot_predictions\n",
    "from utils import get_mse\n",
    "from utils import get_metrics\n",
    "\n",
    "import pymc3 as pm\n",
    "\n",
    "from sklearn.ensemble import RandomForestClassifier\n",
    "from sklearn.ensemble import AdaBoostClassifier\n",
    "from sklearn.linear_model import LogisticRegression\n",
    "from sklearn.metrics import mean_squared_error\n",
    "from sklearn import metrics\n",
    "\n",
    "start_time = time.time()"
   ]
  },
  {
   "source": [
    "Todo:\n",
    "\n",
    "1) Make ready to run eksperiments on comuterome.   \n",
    "    + What you could to loop over:\n",
    "        > C for estimation (C for pred is given as all)\n",
    "        > Kernel for short term trend\n",
    "        > sb, ns, os and all\n",
    "        > individuel mean function\n",
    "\n",
    "----------------------\n",
    "\n",
    "\n",
    "Q's) \n",
    "- why don't they use 1989 for train?\n",
    "\n",
    "old note (maybe still relevatn):\n",
    "So, you wnat to make it as a function that can by iterated over, shitching C and shortterm cov - and maybe even priors. It needs to give out mse and save it. You also need to be able to survey/plot the models you afterwards find most interesting.\n",
    "\n",
    "remember you are only running on ged_sb_best. but that is an experiament perhaps to run...\n",
    "- Do they exhipist different lenght scale?\n",
    "- Are one easier to predict than others?\n",
    "- Can they inform each other?\n",
    "- Does it make any difference if we pool them?\n",
    "->> But keep in mind how much you want wich this paper and that the main concerne is to make it comparebal to ViEWS; which uses sb in the presented paper..\n",
    "-> But it would still be super nice to know, and to ahve in the appendix.."
   ],
   "cell_type": "markdown",
   "metadata": {}
  },
  {
   "cell_type": "code",
   "execution_count": 2,
   "metadata": {},
   "outputs": [],
   "source": [
    "# 43.3 minutes with 148 time-lines\n",
    "# C = 100 # -> 6 obs\n",
    "# C = 64 # -> 12 obs\n",
    "# C = 40 # -> 38 obs\n",
    "# C = 32 # -> 60 obs\n",
    "# C = 24 # -> 87 obs\n",
    "# C = 16 # -> 158 obs\n",
    "\n",
    "C_est = 100\n",
    "C_pred = 64\n",
    "conf_type = 'ged_best_sb' # 'ged_best_ns', 'ged_best_os', 'ged_best'\n",
    "\n",
    "N=None\n",
    "seed = 42\n",
    "dem = False # not sure this is in use.."
   ]
  },
  {
   "cell_type": "code",
   "execution_count": 3,
   "metadata": {},
   "outputs": [
    {
     "output_type": "stream",
     "name": "stdout",
     "text": [
      "Train from 1/1990 trough 12/2011 (264)\nVal from 1/2012 trough 12/2014 (36)\nTest time from 1/2015 trough 12/2017 (36)\n(Test=False, so test set not outputted)\n\n"
     ]
    }
   ],
   "source": [
    "# get df:\n",
    "df = get_views_coord()\n",
    "\n",
    "# get train and validation id:\n",
    "train_id, val_id = test_val_train(df)\n",
    "\n",
    "# get train (train + val) and test id:\n",
    "# train_id, test_id = test_val_train(df, test_time = True)"
   ]
  },
  {
   "cell_type": "code",
   "execution_count": 4,
   "metadata": {},
   "outputs": [],
   "source": [
    "#hyper_priors_dict = get_hyper_priors(plot = True)"
   ]
  },
  {
   "cell_type": "code",
   "execution_count": 5,
   "metadata": {},
   "outputs": [
    {
     "output_type": "display_data",
     "data": {
      "text/plain": "<IPython.core.display.HTML object>",
      "text/html": "\n    <div>\n        <style>\n            /* Turns off some styling */\n            progress {\n                /* gets rid of default border in Firefox and Opera. */\n                border: none;\n                /* Needs to be in here for Safari polyfill so background images work as expected. */\n                background-size: auto;\n            }\n            .progress-bar-interrupted, .progress-bar-interrupted::-webkit-progress-bar {\n                background: #F44336;\n            }\n        </style>\n      <progress value='0' class='' max='5000' style='width:300px; height:20px; vertical-align: middle;'></progress>\n      \n    </div>\n    "
     },
     "metadata": {}
    },
    {
     "output_type": "stream",
     "name": "stdout",
     "text": [
      "\n"
     ]
    }
   ],
   "source": [
    "\n",
    "hps = get_hyper_priors(plot = False)\n",
    "\n",
    "with pm.Model() as model:\n",
    "\n",
    "    # short term trend/irregularities ---------------------------------\n",
    "    ℓ_s = pm.Gamma(\"ℓ_s\", alpha=hps['ℓ_alpha_s'] , beta=hps['ℓ_beta_s'])\n",
    "    η_s = pm.HalfCauchy(\"η_s\", beta=hps['η_beta_s'])\n",
    "    α_s = pm.Gamma(\"α_s\", alpha=hps['α_alpha_s'], beta=hps['α_beta_s']) #for Rational Quadratic Kernel. Ignore for Quad or Matern \n",
    "\n",
    "    # mean and kernal for short term trend\n",
    "    mean_s =  pm.gp.mean.Zero()\n",
    "    #cov_s = η_s ** 2 * pm.gp.cov.RatQuad(1, ℓ_s, α_s) # this seems to help alot when you split the trends below\n",
    "    cov_s = η_s ** 2 * pm.gp.cov.ExpQuad(1, ℓ_s) # this seems to help alot when you split the trends below\n",
    "    # so this needs to be some thng you can vary over in a loop\n",
    "\n",
    "    # GP short term trend \n",
    "    gp_s = pm.gp.Marginal(mean_func = mean_s, cov_func=cov_s)\n",
    "\n",
    "\n",
    "    # long term trend -------------------------------------------------\n",
    "    ℓ_l = pm.Gamma(\"ℓ_l\", alpha=hps['ℓ_alpha_l'] , beta=hps['ℓ_beta_l'])\n",
    "    η_l = pm.HalfCauchy(\"η_l\", beta=hps['η_beta_l'])\n",
    "    \n",
    "    # mean and kernal for long term trend\n",
    "    mean_l =  pm.gp.mean.Zero()\n",
    "    cov_l = η_l **2 * pm.gp.cov.ExpQuad(1, ℓ_l) # Cov func.\n",
    "    \n",
    "    # GP short term trend \n",
    "    gp_l = pm.gp.Marginal(mean_func = mean_l, cov_func=cov_l)\n",
    "\n",
    "\n",
    "    # noise (constant \"white noise\") -----------------------------------\n",
    "    σ = pm.HalfCauchy(\"σ\", beta=hps['σ_beta'])\n",
    "\n",
    "\n",
    "    # sample and split X,y ---------------------------------------------  \n",
    "    X, y, _, _ = sample_conflict_timeline(df = df, train_id = train_id, test_id = val_id, C = C_est, N = None)\n",
    "\n",
    "    # Full GP ----------------------------------------------------------\n",
    "    gp = gp_s + gp_l\n",
    "\n",
    "    # sample:\n",
    "    for i in range(y.shape[1]):\n",
    "        \n",
    "        print(f'Time-line {i+1}/{y.shape[1]} in the works...') \n",
    "        clear_output(wait=True)\n",
    "\n",
    "        y_ = gp.marginal_likelihood(f'y_{i}', X=X[:,i][:,None], y=y[:,i], noise= σ)\n",
    "        \n",
    "    \n",
    "    mp = pm.find_MAP()\n",
    "\n",
    "\n",
    "map_df = pd.DataFrame({\n",
    "        \"Parameter\": [\"ℓ_s\", \"η_s\", \"α_s\", \"ℓ_l\", \"η_l\", \"σ\"],\n",
    "        \"Value at MAP\": [float(mp[\"ℓ_s\"]), float(mp[\"η_s\"]), float(mp[\"α_s\"]), float(mp[\"ℓ_l\"]), float(mp[\"η_l\"]), float(mp[\"σ\"])]\n",
    "    })"
   ]
  },
  {
   "cell_type": "code",
   "execution_count": 6,
   "metadata": {},
   "outputs": [
    {
     "output_type": "execute_result",
     "data": {
      "text/plain": [
       "  Parameter  Value at MAP\n",
       "0       ℓ_s      3.260012\n",
       "1       η_s      0.387174\n",
       "2       α_s      4.000012\n",
       "3       ℓ_l     37.015686\n",
       "4       η_l      0.985967\n",
       "5         σ      0.796994"
      ],
      "text/html": "<div>\n<style scoped>\n    .dataframe tbody tr th:only-of-type {\n        vertical-align: middle;\n    }\n\n    .dataframe tbody tr th {\n        vertical-align: top;\n    }\n\n    .dataframe thead th {\n        text-align: right;\n    }\n</style>\n<table border=\"1\" class=\"dataframe\">\n  <thead>\n    <tr style=\"text-align: right;\">\n      <th></th>\n      <th>Parameter</th>\n      <th>Value at MAP</th>\n    </tr>\n  </thead>\n  <tbody>\n    <tr>\n      <th>0</th>\n      <td>ℓ_s</td>\n      <td>3.260012</td>\n    </tr>\n    <tr>\n      <th>1</th>\n      <td>η_s</td>\n      <td>0.387174</td>\n    </tr>\n    <tr>\n      <th>2</th>\n      <td>α_s</td>\n      <td>4.000012</td>\n    </tr>\n    <tr>\n      <th>3</th>\n      <td>ℓ_l</td>\n      <td>37.015686</td>\n    </tr>\n    <tr>\n      <th>4</th>\n      <td>η_l</td>\n      <td>0.985967</td>\n    </tr>\n    <tr>\n      <th>5</th>\n      <td>σ</td>\n      <td>0.796994</td>\n    </tr>\n  </tbody>\n</table>\n</div>"
     },
     "metadata": {},
     "execution_count": 6
    }
   ],
   "source": [
    "map_df"
   ]
  },
  {
   "cell_type": "code",
   "execution_count": 7,
   "metadata": {},
   "outputs": [
    {
     "output_type": "stream",
     "name": "stdout",
     "text": [
      "Run for 1.56 minutes with 12 time-lines\n"
     ]
    }
   ],
   "source": [
    "end_time = time.time()\n",
    "est_time = end_time - start_time\n",
    "\n",
    "string = f'Run for {est_time/60:.3} minutes with {y.shape[1]} time-lines'\n",
    "print(string)"
   ]
  },
  {
   "cell_type": "code",
   "execution_count": 8,
   "metadata": {},
   "outputs": [
    {
     "output_type": "stream",
     "name": "stdout",
     "text": [
      "Time-line 158/158 in the works...\n"
     ]
    }
   ],
   "source": [
    "df_new = predict(df = df, train_id = train_id, test_id = val_id, mp = mp, gp = gp, gp_s = gp_s, gp_l = gp_l, σ=σ, C=C_pred)\n",
    "\n",
    "df_merged = pd.merge(df_new, df[['id', 'pg_id','year','gwcode', 'xcoord', 'ycoord','ged_best_sb','ged_best_ns', 'ged_best_os', 'ged_best']], how = 'left', on = 'id') # Should merge all but this is fine for now.\n",
    "\n",
    "# god check, but not if you have many time lines\n",
    "# plot_predictions(df_merged = df_merged)\n",
    "\n",
    "mse_resutls_df, mse_dict = get_mse(df_merged = df_merged, train_id = train_id, test_id = val_id)\n"
   ]
  },
  {
   "cell_type": "code",
   "execution_count": 9,
   "metadata": {},
   "outputs": [
    {
     "output_type": "execute_result",
     "data": {
      "text/plain": [
       "     Gps  MSE insample (mean)  MSE insample (sd)  MSE outsample (mean)  \\\n",
       "0   Full             0.242694           0.246660              0.620046   \n",
       "1  Short             0.376749           0.663254              0.738255   \n",
       "2   long             0.308151           0.329019              0.622836   \n",
       "\n",
       "   MSE outsample (sd)  \n",
       "0            0.900007  \n",
       "1            1.362951  \n",
       "2            0.903078  "
      ],
      "text/html": "<div>\n<style scoped>\n    .dataframe tbody tr th:only-of-type {\n        vertical-align: middle;\n    }\n\n    .dataframe tbody tr th {\n        vertical-align: top;\n    }\n\n    .dataframe thead th {\n        text-align: right;\n    }\n</style>\n<table border=\"1\" class=\"dataframe\">\n  <thead>\n    <tr style=\"text-align: right;\">\n      <th></th>\n      <th>Gps</th>\n      <th>MSE insample (mean)</th>\n      <th>MSE insample (sd)</th>\n      <th>MSE outsample (mean)</th>\n      <th>MSE outsample (sd)</th>\n    </tr>\n  </thead>\n  <tbody>\n    <tr>\n      <th>0</th>\n      <td>Full</td>\n      <td>0.242694</td>\n      <td>0.246660</td>\n      <td>0.620046</td>\n      <td>0.900007</td>\n    </tr>\n    <tr>\n      <th>1</th>\n      <td>Short</td>\n      <td>0.376749</td>\n      <td>0.663254</td>\n      <td>0.738255</td>\n      <td>1.362951</td>\n    </tr>\n    <tr>\n      <th>2</th>\n      <td>long</td>\n      <td>0.308151</td>\n      <td>0.329019</td>\n      <td>0.622836</td>\n      <td>0.903078</td>\n    </tr>\n  </tbody>\n</table>\n</div>"
     },
     "metadata": {},
     "execution_count": 9
    }
   ],
   "source": [
    "mse_resutls_df"
   ]
  },
  {
   "source": [
    "# Classificaiton task \n",
    "### need to check to performance af a classsifier.\n",
    "Stuff needs to get into functions and get nice and all that jazz"
   ],
   "cell_type": "markdown",
   "metadata": {}
  },
  {
   "cell_type": "code",
   "execution_count": 17,
   "metadata": {},
   "outputs": [],
   "source": [
    "\n",
    "df_merged.sort_values(['pg_id', 'X'], inplace= True)\n",
    "df_merged['mu_l_slope'] = df_merged.groupby('pg_id')['mu_l'].transform(np.gradient)\n",
    "df_merged['mu_l_acc'] = df_merged.groupby('pg_id')['mu_l_slope'].transform(np.gradient)\n",
    "df_merged['mu_l_mass'] = df_merged.groupby('pg_id')['mu_l'].transform(np.cumsum)\n"
   ]
  },
  {
   "cell_type": "code",
   "execution_count": 21,
   "metadata": {},
   "outputs": [],
   "source": [
    "# def get_metrics(df_merged, train_id, test_id):\n",
    "\n",
    "#     \"\"\"A function that takes the merged df.\n",
    "#     The df must now include both data from 'predict',\n",
    "#     and the devrived slope, acc ans mass.\n",
    "#     The function uses a simple rf classifier to test the temporal features.\n",
    "#     Very simple classifier so results are only indicative\"\"\"\n",
    "\n",
    "#     X_train = df_merged[df_merged['id'].isin(train_id)][['mu_l', 'mu_l_slope', 'mu_l_acc', 'mu_l_mass']] \n",
    "#     y_train = (df_merged[df_merged['id'].isin(train_id)]['y'] > 0) * 1\n",
    "\n",
    "#     X_test = df_merged[df_merged['id'].isin(val_id)][['mu_l', 'mu_l_slope', 'mu_l_acc', 'mu_l_mass']] \n",
    "#     y_test = (df_merged[df_merged['id'].isin(val_id)]['y'] > 0) * 1\n",
    "\n",
    "#     # totally vanilla - just indicative\n",
    "#     model = RandomForestClassifier(n_estimators=100, max_depth=4, min_samples_split=8, random_state=42)\n",
    "#     #model = AdaBoostClassifier(n_estimators=100, random_state=42)\n",
    "#     #model = LogisticRegression()\n",
    "\n",
    "#     model.fit(X_train, y_train)\n",
    "\n",
    "#     y_train_pred = model.predict_proba(X_train)[:,1]\n",
    "#     y_test_pred = model.predict_proba(X_test)[:,1]\n",
    "\n",
    "#     AUC_train = metrics.roc_auc_score(y_train, y_train_pred)\n",
    "#     AP_train = metrics.average_precision_score(y_train, y_train_pred)\n",
    "#     BS_train = metrics.brier_score_loss(y_train, y_train_pred)\n",
    "\n",
    "#     AUC_test = metrics.roc_auc_score(y_test, y_test_pred)\n",
    "#     AP_test = metrics.average_precision_score(y_test, y_test_pred)\n",
    "#     BS_test = metrics.brier_score_loss(y_test, y_test_pred)\n",
    "\n",
    "#     df_results =  pd.DataFrame({\n",
    "#             \"Metrics\": [\"AUC\", \"AP\", \"BS\"],\n",
    "#             \"Train\": [AUC_train, AP_train, BS_train],\n",
    "#             \"Test\": [AUC_test, AP_test, BS_test]\n",
    "#         })\n",
    "\n",
    "#     return(df_results)\n"
   ]
  },
  {
   "cell_type": "code",
   "execution_count": 22,
   "metadata": {},
   "outputs": [],
   "source": [
    "df_results = get_metrics(df_merged = df_merged, train_id = train_id, test_id = val_id)"
   ]
  },
  {
   "cell_type": "code",
   "execution_count": 23,
   "metadata": {},
   "outputs": [
    {
     "output_type": "execute_result",
     "data": {
      "text/plain": [
       "  Metrics     Train      Test\n",
       "0     AUC  0.905609  0.662218\n",
       "1      AP  0.511462  0.330632\n",
       "2      BS  0.048210  0.097827"
      ],
      "text/html": "<div>\n<style scoped>\n    .dataframe tbody tr th:only-of-type {\n        vertical-align: middle;\n    }\n\n    .dataframe tbody tr th {\n        vertical-align: top;\n    }\n\n    .dataframe thead th {\n        text-align: right;\n    }\n</style>\n<table border=\"1\" class=\"dataframe\">\n  <thead>\n    <tr style=\"text-align: right;\">\n      <th></th>\n      <th>Metrics</th>\n      <th>Train</th>\n      <th>Test</th>\n    </tr>\n  </thead>\n  <tbody>\n    <tr>\n      <th>0</th>\n      <td>AUC</td>\n      <td>0.905609</td>\n      <td>0.662218</td>\n    </tr>\n    <tr>\n      <th>1</th>\n      <td>AP</td>\n      <td>0.511462</td>\n      <td>0.330632</td>\n    </tr>\n    <tr>\n      <th>2</th>\n      <td>BS</td>\n      <td>0.048210</td>\n      <td>0.097827</td>\n    </tr>\n  </tbody>\n</table>\n</div>"
     },
     "metadata": {},
     "execution_count": 23
    }
   ],
   "source": [
    "df_results"
   ]
  },
  {
   "cell_type": "code",
   "execution_count": 20,
   "metadata": {},
   "outputs": [
    {
     "output_type": "stream",
     "name": "stdout",
     "text": [
      "Run for 1.6e+02 minutes\n"
     ]
    }
   ],
   "source": [
    "final_time = time.time()\n",
    "final_run_time = final_time - start_time\n",
    "\n",
    "string = f'Run for {final_run_time/60:.3} minutes'\n",
    "print(string)"
   ]
  }
 ]
}