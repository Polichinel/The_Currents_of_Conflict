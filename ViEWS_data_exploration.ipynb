{
 "metadata": {
  "language_info": {
   "codemirror_mode": {
    "name": "ipython",
    "version": 3
   },
   "file_extension": ".py",
   "mimetype": "text/x-python",
   "name": "python",
   "nbconvert_exporter": "python",
   "pygments_lexer": "ipython3",
   "version": "3.8.6-final"
  },
  "orig_nbformat": 2,
  "kernelspec": {
   "name": "python3",
   "display_name": "Python 3",
   "language": "python"
  }
 },
 "nbformat": 4,
 "nbformat_minor": 2,
 "cells": [
  {
   "cell_type": "code",
   "execution_count": 2,
   "metadata": {},
   "outputs": [],
   "source": [
    "import os\n",
    "import numpy as np\n",
    "import pandas as pd\n",
    "import matplotlib.pyplot as plt"
   ]
  },
  {
   "cell_type": "code",
   "execution_count": 20,
   "metadata": {},
   "outputs": [],
   "source": [
    "def get_df_dict(print_features = True):\n",
    "\n",
    "    path = '/home/polichinel/Documents/Articles/conflict_prediction/data/ViEWS/r18.10.1/data'\n",
    "    file_names = ['imputted_priogrid.csv', 'ucdp_month_country.csv', 'ucdp_month_priogrid.csv']\n",
    "    file_paths = []\n",
    "\n",
    "    for i in file_names:\n",
    "        file_path = os.path.join(path, i)\n",
    "        file_paths.append(file_path)\n",
    "\n",
    "    df_dict = {}\n",
    "\n",
    "    for i, j in enumerate(file_paths):\n",
    "        df = pd.read_csv(j)\n",
    "        file_name = file_names[i].split('.')[0] \n",
    "        df_dict[file_name] = df\n",
    "\n",
    "        if print_features == True:\n",
    "            print(f'{file_name}:\\n')            \n",
    "            print(df.columns)\n",
    "            print('\\n\\n')\n",
    "    \n",
    "    return(df_dict)"
   ]
  },
  {
   "cell_type": "code",
   "execution_count": 21,
   "metadata": {},
   "outputs": [
    {
     "output_type": "stream",
     "name": "stdout",
     "text": [
      "imputted_priogrid:\n",
      "\n",
      "Index(['id', 'priogrid_gid', 'month_id', 'ged_sb_dummy_1', 'ged_ns_dummy_1',\n",
      "       'ged_os_dummy_1', 'ged_sb_dummy_2', 'ged_ns_dummy_2', 'ged_os_dummy_2',\n",
      "       'ged_sb_dummy_3', 'ged_ns_dummy_3', 'ged_os_dummy_3', 'ged_sb_dummy_4',\n",
      "       'ged_ns_dummy_4', 'ged_os_dummy_4', 'ged_sb_dummy_5', 'ged_ns_dummy_5',\n",
      "       'ged_os_dummy_5'],\n",
      "      dtype='object')\n",
      "\n",
      "\n",
      "\n",
      "ucdp_month_country:\n",
      "\n",
      "Index(['id', 'gwcode', 'month_id', 'year', 'month', 'ged_dummy_sb',\n",
      "       'ged_count_sb', 'ged_best_sb', 'ged_dummy_ns', 'ged_count_ns',\n",
      "       'ged_best_ns', 'ged_dummy_os', 'ged_count_os', 'ged_best_os',\n",
      "       'ged_count_sb_lag1', 'ged_count_ns_lag1', 'ged_count_os_lag1',\n",
      "       'ged_best_sb_lag1', 'ged_best_ns_lag1', 'ged_best_os_lag1'],\n",
      "      dtype='object')\n",
      "\n",
      "\n",
      "\n",
      "ucdp_month_priogrid:\n",
      "\n",
      "Index(['id', 'pg_id', 'month_id', 'year', 'month', 'gwcode', 'ged_dummy_sb',\n",
      "       'ged_count_sb', 'ged_best_sb', 'ged_dummy_ns', 'ged_count_ns',\n",
      "       'ged_best_ns', 'ged_dummy_os', 'ged_count_os', 'ged_best_os'],\n",
      "      dtype='object')\n",
      "\n",
      "\n",
      "\n"
     ]
    }
   ],
   "source": [
    "df_dict = get_df_dict()"
   ]
  },
  {
   "source": [
    "It does not appear I can make the baseline + history prediction from this."
   ],
   "cell_type": "markdown",
   "metadata": {}
  }
 ]
}