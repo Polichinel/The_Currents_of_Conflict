{
 "metadata": {
  "language_info": {
   "codemirror_mode": {
    "name": "ipython",
    "version": 3
   },
   "file_extension": ".py",
   "mimetype": "text/x-python",
   "name": "python",
   "nbconvert_exporter": "python",
   "pygments_lexer": "ipython3",
   "version": "3.8.6-final"
  },
  "orig_nbformat": 2,
  "kernelspec": {
   "name": "python3",
   "display_name": "Python 3",
   "language": "python"
  }
 },
 "nbformat": 4,
 "nbformat_minor": 2,
 "cells": [
  {
   "cell_type": "code",
   "execution_count": 8,
   "metadata": {},
   "outputs": [],
   "source": [
    "import pandas as pd\n",
    "import pickle"
   ]
  },
  {
   "cell_type": "code",
   "execution_count": 9,
   "metadata": {},
   "outputs": [],
   "source": [
    "dict_path = \"/home/polichinel/Documents/Articles/conflict_prediction/data/ViEWS/two_trend_ExpQuad_dict.pkl\"\n",
    "\n",
    "pkl_file = open(dict_path, 'rb')\n",
    "ex_dict = pickle.load(pkl_file)\n",
    "pkl_file.close()\n"
   ]
  },
  {
   "cell_type": "code",
   "execution_count": 10,
   "metadata": {},
   "outputs": [
    {
     "output_type": "execute_result",
     "data": {
      "text/plain": [
       "dict_keys(['32_ged_best_sb_ExpQuad_map_df', '32_ged_best_sb_ExpQuad_mse_results_df', '32_ged_best_sb_ExpQuad_mse_dict', '32_ged_best_sb_ExpQuad_df_results'])"
      ]
     },
     "metadata": {},
     "execution_count": 10
    }
   ],
   "source": [
    "ex_dict.keys()"
   ]
  },
  {
   "cell_type": "code",
   "execution_count": 11,
   "metadata": {},
   "outputs": [
    {
     "output_type": "execute_result",
     "data": {
      "text/plain": [
       "  Parameter  Value at MAP\n",
       "0       ℓ_s      4.308378\n",
       "1       η_s      0.273011\n",
       "2       ℓ_l     38.302339\n",
       "3       η_l      0.495837\n",
       "4         σ      0.616867"
      ],
      "text/html": "<div>\n<style scoped>\n    .dataframe tbody tr th:only-of-type {\n        vertical-align: middle;\n    }\n\n    .dataframe tbody tr th {\n        vertical-align: top;\n    }\n\n    .dataframe thead th {\n        text-align: right;\n    }\n</style>\n<table border=\"1\" class=\"dataframe\">\n  <thead>\n    <tr style=\"text-align: right;\">\n      <th></th>\n      <th>Parameter</th>\n      <th>Value at MAP</th>\n    </tr>\n  </thead>\n  <tbody>\n    <tr>\n      <th>0</th>\n      <td>ℓ_s</td>\n      <td>4.308378</td>\n    </tr>\n    <tr>\n      <th>1</th>\n      <td>η_s</td>\n      <td>0.273011</td>\n    </tr>\n    <tr>\n      <th>2</th>\n      <td>ℓ_l</td>\n      <td>38.302339</td>\n    </tr>\n    <tr>\n      <th>3</th>\n      <td>η_l</td>\n      <td>0.495837</td>\n    </tr>\n    <tr>\n      <th>4</th>\n      <td>σ</td>\n      <td>0.616867</td>\n    </tr>\n  </tbody>\n</table>\n</div>"
     },
     "metadata": {},
     "execution_count": 11
    }
   ],
   "source": [
    "ex_dict['32_ged_best_sb_ExpQuad_map_df']"
   ]
  },
  {
   "cell_type": "code",
   "execution_count": 12,
   "metadata": {},
   "outputs": [
    {
     "output_type": "execute_result",
     "data": {
      "text/plain": [
       "     Gps  MSE insample (mean)  MSE insample (sd)  MSE outsample (mean)  \\\n",
       "0   Full             0.345294           0.336502              0.933293   \n",
       "1  Short             0.624917           0.963695              1.245171   \n",
       "2   long             0.431509           0.439589              0.938713   \n",
       "\n",
       "   MSE outsample (sd)  \n",
       "0            1.175397  \n",
       "1            1.915020  \n",
       "2            1.186622  "
      ],
      "text/html": "<div>\n<style scoped>\n    .dataframe tbody tr th:only-of-type {\n        vertical-align: middle;\n    }\n\n    .dataframe tbody tr th {\n        vertical-align: top;\n    }\n\n    .dataframe thead th {\n        text-align: right;\n    }\n</style>\n<table border=\"1\" class=\"dataframe\">\n  <thead>\n    <tr style=\"text-align: right;\">\n      <th></th>\n      <th>Gps</th>\n      <th>MSE insample (mean)</th>\n      <th>MSE insample (sd)</th>\n      <th>MSE outsample (mean)</th>\n      <th>MSE outsample (sd)</th>\n    </tr>\n  </thead>\n  <tbody>\n    <tr>\n      <th>0</th>\n      <td>Full</td>\n      <td>0.345294</td>\n      <td>0.336502</td>\n      <td>0.933293</td>\n      <td>1.175397</td>\n    </tr>\n    <tr>\n      <th>1</th>\n      <td>Short</td>\n      <td>0.624917</td>\n      <td>0.963695</td>\n      <td>1.245171</td>\n      <td>1.915020</td>\n    </tr>\n    <tr>\n      <th>2</th>\n      <td>long</td>\n      <td>0.431509</td>\n      <td>0.439589</td>\n      <td>0.938713</td>\n      <td>1.186622</td>\n    </tr>\n  </tbody>\n</table>\n</div>"
     },
     "metadata": {},
     "execution_count": 12
    }
   ],
   "source": [
    "ex_dict['32_ged_best_sb_ExpQuad_mse_results_df']"
   ]
  },
  {
   "cell_type": "code",
   "execution_count": 13,
   "metadata": {},
   "outputs": [
    {
     "output_type": "execute_result",
     "data": {
      "text/plain": [
       "  Metrics     Train      Test\n",
       "0     AUC  0.913676  0.668565\n",
       "1      AP  0.634713  0.488625\n",
       "2      BS  0.068621  0.146222"
      ],
      "text/html": "<div>\n<style scoped>\n    .dataframe tbody tr th:only-of-type {\n        vertical-align: middle;\n    }\n\n    .dataframe tbody tr th {\n        vertical-align: top;\n    }\n\n    .dataframe thead th {\n        text-align: right;\n    }\n</style>\n<table border=\"1\" class=\"dataframe\">\n  <thead>\n    <tr style=\"text-align: right;\">\n      <th></th>\n      <th>Metrics</th>\n      <th>Train</th>\n      <th>Test</th>\n    </tr>\n  </thead>\n  <tbody>\n    <tr>\n      <th>0</th>\n      <td>AUC</td>\n      <td>0.913676</td>\n      <td>0.668565</td>\n    </tr>\n    <tr>\n      <th>1</th>\n      <td>AP</td>\n      <td>0.634713</td>\n      <td>0.488625</td>\n    </tr>\n    <tr>\n      <th>2</th>\n      <td>BS</td>\n      <td>0.068621</td>\n      <td>0.146222</td>\n    </tr>\n  </tbody>\n</table>\n</div>"
     },
     "metadata": {},
     "execution_count": 13
    }
   ],
   "source": [
    "ex_dict['32_ged_best_sb_ExpQuad_df_results']"
   ]
  }
 ]
}