{
 "metadata": {
  "language_info": {
   "codemirror_mode": {
    "name": "ipython",
    "version": 3
   },
   "file_extension": ".py",
   "mimetype": "text/x-python",
   "name": "python",
   "nbconvert_exporter": "python",
   "pygments_lexer": "ipython3",
   "version": "3.8.6-final"
  },
  "orig_nbformat": 2,
  "kernelspec": {
   "name": "python3",
   "display_name": "Python 3",
   "language": "python"
  }
 },
 "nbformat": 4,
 "nbformat_minor": 2,
 "cells": [
  {
   "cell_type": "code",
   "execution_count": 1,
   "metadata": {},
   "outputs": [],
   "source": [
    "import pandas as pd\n",
    "import pickle"
   ]
  },
  {
   "cell_type": "code",
   "execution_count": 2,
   "metadata": {},
   "outputs": [],
   "source": [
    "dict_path = \"/home/polichinel/Documents/Articles/conflict_prediction/data/ViEWS/two_trend_ExpQuad_dict.pkl\"\n",
    "\n",
    "pkl_file = open(dict_path, 'rb')\n",
    "ex_dict = pickle.load(pkl_file)\n",
    "pkl_file.close()\n"
   ]
  },
  {
   "cell_type": "code",
   "execution_count": 3,
   "metadata": {},
   "outputs": [
    {
     "output_type": "execute_result",
     "data": {
      "text/plain": [
       "dict_keys(['32_ged_best_sb_ExpQuad_map_df', '32_ged_best_sb_ExpQuad_mse_results_df', '32_ged_best_sb_ExpQuad_mse_dict', '32_ged_best_sb_ExpQuad_df_results'])"
      ]
     },
     "metadata": {},
     "execution_count": 3
    }
   ],
   "source": [
    "ex_dict.keys()"
   ]
  },
  {
   "cell_type": "code",
   "execution_count": 5,
   "metadata": {},
   "outputs": [
    {
     "output_type": "execute_result",
     "data": {
      "text/plain": [
       "  Parameter  Value at MAP\n",
       "0       ℓ_s      4.308378\n",
       "1       η_s      0.273011\n",
       "2       ℓ_l     38.302339\n",
       "3       η_l      0.495837\n",
       "4         σ      0.616867"
      ],
      "text/html": "<div>\n<style scoped>\n    .dataframe tbody tr th:only-of-type {\n        vertical-align: middle;\n    }\n\n    .dataframe tbody tr th {\n        vertical-align: top;\n    }\n\n    .dataframe thead th {\n        text-align: right;\n    }\n</style>\n<table border=\"1\" class=\"dataframe\">\n  <thead>\n    <tr style=\"text-align: right;\">\n      <th></th>\n      <th>Parameter</th>\n      <th>Value at MAP</th>\n    </tr>\n  </thead>\n  <tbody>\n    <tr>\n      <th>0</th>\n      <td>ℓ_s</td>\n      <td>4.308378</td>\n    </tr>\n    <tr>\n      <th>1</th>\n      <td>η_s</td>\n      <td>0.273011</td>\n    </tr>\n    <tr>\n      <th>2</th>\n      <td>ℓ_l</td>\n      <td>38.302339</td>\n    </tr>\n    <tr>\n      <th>3</th>\n      <td>η_l</td>\n      <td>0.495837</td>\n    </tr>\n    <tr>\n      <th>4</th>\n      <td>σ</td>\n      <td>0.616867</td>\n    </tr>\n  </tbody>\n</table>\n</div>"
     },
     "metadata": {},
     "execution_count": 5
    }
   ],
   "source": [
    "ex_dict['32_ged_best_sb_ExpQuad_map_df']"
   ]
  },
  {
   "cell_type": "code",
   "execution_count": 6,
   "metadata": {},
   "outputs": [
    {
     "output_type": "execute_result",
     "data": {
      "text/plain": [
       "  Parameter  Value at MAP\n",
       "0       ℓ_s      4.308378\n",
       "1       η_s      0.273011\n",
       "2       ℓ_l     38.302339\n",
       "3       η_l      0.495837\n",
       "4         σ      0.616867"
      ],
      "text/html": "<div>\n<style scoped>\n    .dataframe tbody tr th:only-of-type {\n        vertical-align: middle;\n    }\n\n    .dataframe tbody tr th {\n        vertical-align: top;\n    }\n\n    .dataframe thead th {\n        text-align: right;\n    }\n</style>\n<table border=\"1\" class=\"dataframe\">\n  <thead>\n    <tr style=\"text-align: right;\">\n      <th></th>\n      <th>Parameter</th>\n      <th>Value at MAP</th>\n    </tr>\n  </thead>\n  <tbody>\n    <tr>\n      <th>0</th>\n      <td>ℓ_s</td>\n      <td>4.308378</td>\n    </tr>\n    <tr>\n      <th>1</th>\n      <td>η_s</td>\n      <td>0.273011</td>\n    </tr>\n    <tr>\n      <th>2</th>\n      <td>ℓ_l</td>\n      <td>38.302339</td>\n    </tr>\n    <tr>\n      <th>3</th>\n      <td>η_l</td>\n      <td>0.495837</td>\n    </tr>\n    <tr>\n      <th>4</th>\n      <td>σ</td>\n      <td>0.616867</td>\n    </tr>\n  </tbody>\n</table>\n</div>"
     },
     "metadata": {},
     "execution_count": 6
    }
   ],
   "source": [
    "ex_dict['32_ged_best_sb_ExpQuad_map_df']"
   ]
  },
  {
   "cell_type": "code",
   "execution_count": 7,
   "metadata": {},
   "outputs": [
    {
     "output_type": "execute_result",
     "data": {
      "text/plain": [
       "  Parameter  Value at MAP\n",
       "0       ℓ_s      4.308378\n",
       "1       η_s      0.273011\n",
       "2       ℓ_l     38.302339\n",
       "3       η_l      0.495837\n",
       "4         σ      0.616867"
      ],
      "text/html": "<div>\n<style scoped>\n    .dataframe tbody tr th:only-of-type {\n        vertical-align: middle;\n    }\n\n    .dataframe tbody tr th {\n        vertical-align: top;\n    }\n\n    .dataframe thead th {\n        text-align: right;\n    }\n</style>\n<table border=\"1\" class=\"dataframe\">\n  <thead>\n    <tr style=\"text-align: right;\">\n      <th></th>\n      <th>Parameter</th>\n      <th>Value at MAP</th>\n    </tr>\n  </thead>\n  <tbody>\n    <tr>\n      <th>0</th>\n      <td>ℓ_s</td>\n      <td>4.308378</td>\n    </tr>\n    <tr>\n      <th>1</th>\n      <td>η_s</td>\n      <td>0.273011</td>\n    </tr>\n    <tr>\n      <th>2</th>\n      <td>ℓ_l</td>\n      <td>38.302339</td>\n    </tr>\n    <tr>\n      <th>3</th>\n      <td>η_l</td>\n      <td>0.495837</td>\n    </tr>\n    <tr>\n      <th>4</th>\n      <td>σ</td>\n      <td>0.616867</td>\n    </tr>\n  </tbody>\n</table>\n</div>"
     },
     "metadata": {},
     "execution_count": 7
    }
   ],
   "source": [
    "ex_dict['32_ged_best_sb_ExpQuad_map_df']"
   ]
  }
 ]
}